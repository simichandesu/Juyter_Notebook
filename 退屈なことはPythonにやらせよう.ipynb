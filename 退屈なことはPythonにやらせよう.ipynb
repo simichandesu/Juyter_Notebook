{
 "cells": [
  {
   "cell_type": "markdown",
   "metadata": {
    "toc": true
   },
   "source": [
    "<h1>Table of Contents<span class=\"tocSkip\"></span></h1>\n",
    "<div class=\"toc\" style=\"margin-top: 1em;\"><ul class=\"toc-item\"><li><span><a href=\"#Matplotlib（高機能作図）ライブラリー\" data-toc-modified-id=\"Matplotlib（高機能作図）ライブラリー-1\"><span class=\"toc-item-num\">1&nbsp;&nbsp;</span>Matplotlib（高機能作図）ライブラリー</a></span><ul class=\"toc-item\"><li><span><a href=\"#ライブラリーの搬入\" data-toc-modified-id=\"ライブラリーの搬入-1.1\"><span class=\"toc-item-num\">1.1&nbsp;&nbsp;</span>ライブラリーの搬入</a></span></li><li><span><a href=\"#円グラフ\" data-toc-modified-id=\"円グラフ-1.2\"><span class=\"toc-item-num\">1.2&nbsp;&nbsp;</span>円グラフ</a></span></li><li><span><a href=\"#棒グラフ\" data-toc-modified-id=\"棒グラフ-1.3\"><span class=\"toc-item-num\">1.3&nbsp;&nbsp;</span>棒グラフ</a></span></li><li><span><a href=\"#積み上げ棒グラフ\" data-toc-modified-id=\"積み上げ棒グラフ-1.4\"><span class=\"toc-item-num\">1.4&nbsp;&nbsp;</span>積み上げ棒グラフ</a></span></li><li><span><a href=\"#横並び棒グラフ\" data-toc-modified-id=\"横並び棒グラフ-1.5\"><span class=\"toc-item-num\">1.5&nbsp;&nbsp;</span>横並び棒グラフ</a></span></li><li><span><a href=\"#横棒グラフ\" data-toc-modified-id=\"横棒グラフ-1.6\"><span class=\"toc-item-num\">1.6&nbsp;&nbsp;</span>横棒グラフ</a></span></li><li><span><a href=\"#折れ線グラフ\" data-toc-modified-id=\"折れ線グラフ-1.7\"><span class=\"toc-item-num\">1.7&nbsp;&nbsp;</span>折れ線グラフ</a></span></li><li><span><a href=\"#ヒストグラム\" data-toc-modified-id=\"ヒストグラム-1.8\"><span class=\"toc-item-num\">1.8&nbsp;&nbsp;</span>ヒストグラム</a></span></li><li><span><a href=\"#相対度数ヒストグラム\" data-toc-modified-id=\"相対度数ヒストグラム-1.9\"><span class=\"toc-item-num\">1.9&nbsp;&nbsp;</span>相対度数ヒストグラム</a></span></li><li><span><a href=\"#累積分布ヒストグラム\" data-toc-modified-id=\"累積分布ヒストグラム-1.10\"><span class=\"toc-item-num\">1.10&nbsp;&nbsp;</span>累積分布ヒストグラム</a></span></li><li><span><a href=\"#散布図\" data-toc-modified-id=\"散布図-1.11\"><span class=\"toc-item-num\">1.11&nbsp;&nbsp;</span>散布図</a></span></li><li><span><a href=\"#複数グループの散布図\" data-toc-modified-id=\"複数グループの散布図-1.12\"><span class=\"toc-item-num\">1.12&nbsp;&nbsp;</span>複数グループの散布図</a></span></li></ul></li><li><span><a href=\"#Google-検索と表示、保存\" data-toc-modified-id=\"Google-検索と表示、保存-2\"><span class=\"toc-item-num\">2&nbsp;&nbsp;</span>Google 検索と表示、保存</a></span><ul class=\"toc-item\"><li><span><a href=\"#要件定義\" data-toc-modified-id=\"要件定義-2.1\"><span class=\"toc-item-num\">2.1&nbsp;&nbsp;</span>要件定義</a></span></li><li><span><a href=\"#システム設計\" data-toc-modified-id=\"システム設計-2.2\"><span class=\"toc-item-num\">2.2&nbsp;&nbsp;</span>システム設計</a></span><ul class=\"toc-item\"><li><span><a href=\"#jupyter-notebook上で検索語を入力してみる\" data-toc-modified-id=\"jupyter-notebook上で検索語を入力してみる-2.2.1\"><span class=\"toc-item-num\">2.2.1&nbsp;&nbsp;</span>jupyter notebook上で検索語を入力してみる</a></span></li><li><span><a href=\"#コマンドライン引数で検索語を入力する場合\" data-toc-modified-id=\"コマンドライン引数で検索語を入力する場合-2.2.2\"><span class=\"toc-item-num\">2.2.2&nbsp;&nbsp;</span>コマンドライン引数で検索語を入力する場合</a></span></li></ul></li></ul></li><li><span><a href=\"#12章エクセルシート\" data-toc-modified-id=\"12章エクセルシート-3\"><span class=\"toc-item-num\">3&nbsp;&nbsp;</span>12章エクセルシート</a></span><ul class=\"toc-item\"><li><span><a href=\"#Openpyxlでエクセルファイルを開く\" data-toc-modified-id=\"Openpyxlでエクセルファイルを開く-3.1\"><span class=\"toc-item-num\">3.1&nbsp;&nbsp;</span>Openpyxlでエクセルファイルを開く</a></span></li><li><span><a href=\"#ワークブックからシートを取得\" data-toc-modified-id=\"ワークブックからシートを取得-3.2\"><span class=\"toc-item-num\">3.2&nbsp;&nbsp;</span>ワークブックからシートを取得</a></span></li><li><span><a href=\"#シートからセルを取得する\" data-toc-modified-id=\"シートからセルを取得する-3.3\"><span class=\"toc-item-num\">3.3&nbsp;&nbsp;</span>シートからセルを取得する</a></span></li><li><span><a href=\"#Workbookオブジェクトのmax_row,-max_column属性\" data-toc-modified-id=\"Workbookオブジェクトのmax_row,-max_column属性-3.4\"><span class=\"toc-item-num\">3.4&nbsp;&nbsp;</span>Workbookオブジェクトのmax_row, max_column属性</a></span></li><li><span><a href=\"#シート内の特定領域のセルオブジェクトを左上から右下へ順に取得\" data-toc-modified-id=\"シート内の特定領域のセルオブジェクトを左上から右下へ順に取得-3.5\"><span class=\"toc-item-num\">3.5&nbsp;&nbsp;</span>シート内の特定領域のセルオブジェクトを左上から右下へ順に取得</a></span></li><li><span><a href=\"#WorkSheetオブジェクトのrows,-columns属性\" data-toc-modified-id=\"WorkSheetオブジェクトのrows,-columns属性-3.6\"><span class=\"toc-item-num\">3.6&nbsp;&nbsp;</span>WorkSheetオブジェクトのrows, columns属性</a></span></li><li><span><a href=\"#12.4-スプレッドシートからデータを読み込む\" data-toc-modified-id=\"12.4-スプレッドシートからデータを読み込む-3.7\"><span class=\"toc-item-num\">3.7&nbsp;&nbsp;</span>12.4 スプレッドシートからデータを読み込む</a></span></li><li><span><a href=\"#12.5-スプレッドシートを更新する\" data-toc-modified-id=\"12.5-スプレッドシートを更新する-3.8\"><span class=\"toc-item-num\">3.8&nbsp;&nbsp;</span>12.5 スプレッドシートを更新する</a></span></li></ul></li><li><span><a href=\"#16章電子メールやSMSの送信\" data-toc-modified-id=\"16章電子メールやSMSの送信-4\"><span class=\"toc-item-num\">4&nbsp;&nbsp;</span>16章電子メールやSMSの送信</a></span><ul class=\"toc-item\"><li><span><a href=\"#メール送信\" data-toc-modified-id=\"メール送信-4.1\"><span class=\"toc-item-num\">4.1&nbsp;&nbsp;</span>メール送信</a></span></li><li><span><a href=\"#IMAPでメール取得と削除\" data-toc-modified-id=\"IMAPでメール取得と削除-4.2\"><span class=\"toc-item-num\">4.2&nbsp;&nbsp;</span>IMAPでメール取得と削除</a></span><ul class=\"toc-item\"><li><span><a href=\"#フォルダのリスト取得\" data-toc-modified-id=\"フォルダのリスト取得-4.2.1\"><span class=\"toc-item-num\">4.2.1&nbsp;&nbsp;</span>フォルダのリスト取得</a></span></li></ul></li><li><span><a href=\"#会費リマインダーメールを送る\" data-toc-modified-id=\"会費リマインダーメールを送る-4.3\"><span class=\"toc-item-num\">4.3&nbsp;&nbsp;</span>会費リマインダーメールを送る</a></span><ul class=\"toc-item\"><li><span><a href=\"#シートから辞書へ日付で条件抽出\" data-toc-modified-id=\"シートから辞書へ日付で条件抽出-4.3.1\"><span class=\"toc-item-num\">4.3.1&nbsp;&nbsp;</span>シートから辞書へ日付で条件抽出</a></span></li></ul></li></ul></li><li><span><a href=\"#Simple-usage-公式ドキュメントやってみる\" data-toc-modified-id=\"Simple-usage-公式ドキュメントやってみる-5\"><span class=\"toc-item-num\">5&nbsp;&nbsp;</span>Simple usage 公式ドキュメントやってみる</a></span><ul class=\"toc-item\"><li><ul class=\"toc-item\"><li><span><a href=\"#Write-a-Workbook\" data-toc-modified-id=\"Write-a-Workbook-5.0.1\"><span class=\"toc-item-num\">5.0.1&nbsp;&nbsp;</span>Write a Workbook</a></span></li><li><span><a href=\"#Read-an-existing-workbook\" data-toc-modified-id=\"Read-an-existing-workbook-5.0.2\"><span class=\"toc-item-num\">5.0.2&nbsp;&nbsp;</span>Read an existing workbook</a></span></li><li><span><a href=\"#Using-number-formats\" data-toc-modified-id=\"Using-number-formats-5.0.3\"><span class=\"toc-item-num\">5.0.3&nbsp;&nbsp;</span>Using number formats</a></span></li><li><span><a href=\"#Using-formulae\" data-toc-modified-id=\"Using-formulae-5.0.4\"><span class=\"toc-item-num\">5.0.4&nbsp;&nbsp;</span>Using formulae</a></span></li><li><span><a href=\"#Fold-columns(outline)\" data-toc-modified-id=\"Fold-columns(outline)-5.0.5\"><span class=\"toc-item-num\">5.0.5&nbsp;&nbsp;</span>Fold columns(outline)</a></span></li><li><span><a href=\"#Merge/Unmerge-cells\" data-toc-modified-id=\"Merge/Unmerge-cells-5.0.6\"><span class=\"toc-item-num\">5.0.6&nbsp;&nbsp;</span>Merge/Unmerge cells</a></span></li><li><span><a href=\"#Inserting-an-image\" data-toc-modified-id=\"Inserting-an-image-5.0.7\"><span class=\"toc-item-num\">5.0.7&nbsp;&nbsp;</span>Inserting an image</a></span></li></ul></li></ul></li></ul></div>"
   ]
  },
  {
   "cell_type": "markdown",
   "metadata": {
    "ExecuteTime": {
     "end_time": "2018-12-09T04:03:13.941028Z",
     "start_time": "2018-12-09T04:03:13.929345Z"
    }
   },
   "source": [
    "## Matplotlib（高機能作図）ライブラリー\n",
    "Pythonには様々な作図ライブラリーが提供されています．その中で最も使われているものがMatPlotlibです．ここでは，Matplotlibを使った作図を簡単に説明します．私たちはpandasのDataFrameにデータを格納して分析しますが，pandasにも作図機能はありますので，必ずしもMatplotlibを使わう必要はありません．また，作図ライブラリーも日進月歩の分野ですので，さらに進んだ作図機能を別のパッケージで対応しても良いでしょう．\n",
    "\n",
    "よく使うグラフとして次のグラフを作図してみましょう．\n",
    "- 円グラフ\n",
    "- 棒グラフ\n",
    "- 折れ線グラフ\n",
    "- ヒストグラム\n",
    "- 散布図"
   ]
  },
  {
   "cell_type": "markdown",
   "metadata": {},
   "source": [
    "### ライブラリーの搬入\n",
    "まず，numpyとpandasは一緒に使用するのでインポートします．\n",
    "matplotlibについてはpyplotモジュールを使用しますので，pyplotモジュールを指定してインポートします．\n",
    "\n",
    "> <font color=green>import matplotlib.pyplot as</font> <font color=blue>plt</font>\n",
    "\n",
    "別名のpltについては慣用的に使われますので，私たちも踏襲することにします．\n",
    "\n",
    "私たちのPython実行環境はJupyter notebookですが，notebookの文書内にグラフを表示するために次のマジックコマンドが必要になります．\n",
    "\n",
    "> <font color=green>%matplotlib inline</font>\n",
    "\n",
    "この文を実行しないと図が表示されないので，必ずmatplotlibのimport文と併記しましょう．ちなみに，Python実行環境をSpyderやIPythonにする場合は不要となります．"
   ]
  },
  {
   "cell_type": "markdown",
   "metadata": {},
   "source": [
    "それでは，numpy，pandas，matplotlibを全てimportして使用できるようにしましょう．\n",
    "```Python\n",
    "import numpy as np\n",
    "import pandas as pd\n",
    "import matplotlib.pyplot as plt\n",
    "%matplotlib inline\n",
    "```"
   ]
  },
  {
   "cell_type": "code",
   "execution_count": 3,
   "metadata": {
    "ExecuteTime": {
     "end_time": "2018-12-09T04:07:13.386503Z",
     "start_time": "2018-12-09T04:07:13.377377Z"
    },
    "collapsed": true
   },
   "outputs": [],
   "source": [
    "import numpy as np\n",
    "import pandas as pd\n",
    "import matplotlib.pyplot as plt\n",
    "%matplotlib inline"
   ]
  },
  {
   "cell_type": "markdown",
   "metadata": {},
   "source": [
    "*****\n",
    "### 円グラフ\n",
    "円グラフは円をデータに対応した比率で扇状の区分を作成するグラフです．\n",
    "matplotlib.pyplotには円グラフ専用の関数として<font color=blue>pie()</font>が用意されています．\n",
    "グラフ描写では様々な設定を使ってチューニングが必要となってきますが，pie()関数にも様々な引数が用意されています．\n",
    "順を追って円グラフの表記をリッチにしていきます．\n",
    "\n",
    "まず，表示するデータとして日本人の血液型の割合を見てみます．下表は正確ではないですが、おおよその血液型別の人数です．\n",
    "\n",
    "| 血液型  | A   | O   | B   | AB  |\n",
    "| :---: | :---: | :---: | :---: | :---: |\n",
    "| 人数 | 48,400,000 | 38,147,000 | 28,020,000 | 12,673,000 |\n",
    "\n",
    "先ず、このデータを単純に円グラフで描きます．データはリスト配列にしてpie()関数に渡します．\n",
    "pie()関数の最もシンプルな構文は次の通りです．\n",
    "\n",
    "> <font color=green>matplotlib.pyplot.pie</font>(<font color=blue>*values*</font>)\n",
    "\n",
    "ここでvaluesは，データの配列です．具体例に合わせると次にようになります．\n",
    "\n",
    "```Python\n",
    "plt.pie([48400000,38147000,28020000,12673000])\n",
    "plt.axis('equal')\n",
    "plt.show()\n",
    "```\n",
    "ここで2行目の文<font color=green>matplotlib.pyplot.axis('equal')</font>は，Jupyter notebookの出力において縦横比を等しく表示するためのものですので，pie()関数とは一緒に使いましょう．\n",
    "その後で<font color=green>matplotlib.pyplot.show()</font>関数によってグラフを表示します．"
   ]
  },
  {
   "cell_type": "code",
   "execution_count": 4,
   "metadata": {
    "ExecuteTime": {
     "end_time": "2018-12-09T04:07:15.825248Z",
     "start_time": "2018-12-09T04:07:15.706250Z"
    }
   },
   "outputs": [
    {
     "data": {
      "image/png": "[encoded data removed]",
      "text/plain": [
       "<matplotlib.figure.Figure at 0x11363af60>"
      ]
     },
     "metadata": {},
     "output_type": "display_data"
    }
   ],
   "source": [
    "plt.pie([48400000, 38147000,28020000,12673000])\n",
    "plt.axis('equal')\n",
    "plt.show()"
   ]
  },
  {
   "cell_type": "markdown",
   "metadata": {},
   "source": [
    "この円グラフだと円が4つの扇形に分けられているだけで，どこの扇形が何を表しているのかも分かりません．\n",
    "そこで，幾つかのオプションを引数によって設定します．\n",
    "```Python\n",
    "plt.pie([48400000,38147000,28020000,12673000],\n",
    "        labels=['A','O','B','AB'],\n",
    "        startangle=90,\n",
    "        counterclock=False,\n",
    "        autopct='%1.1f%%',\n",
    "        wedgeprops={'linewidth': 1, 'edgecolor':\"white\"})\n",
    "plt.axis('equal')\n",
    "plt.show()\n",
    "```\n",
    "\n",
    "- labels：データのリスト順にラベルの文字を与えます．\n",
    "- startangle：扇柄の描き始めの確度を指定します．デフォルトは0度です．ここでは90度から始めます．\n",
    "- counterclock：扇形を描く回り方を指定します．counterclockは反時計回りを意味します．これをFalseにすることによって時計回りになります．\n",
    "- autopct：数値を比率で表示するオプションです．\n",
    "- wedgeprops：図形の境界線についてのプロパティーを辞書配列で指定します．\n",
    "\n"
   ]
  },
  {
   "cell_type": "markdown",
   "metadata": {},
   "source": [
    "*****\n",
    "### 棒グラフ\n",
    "棒グラフは複数の数値データを長方形の長さに変えて並べて比較するグラフです．\n",
    "matplotlib.pyplotには，棒グラフ専用の関数として<font color=blue>bar()</font>が用意されています．\n",
    "棒グラフについても様々な設定が可能となっていますが，先ずは簡単な表示から始めて，洗練させていきます．\n",
    "\n",
    "単純な棒グラフとして次のデータを表示します．\n",
    "\n",
    "| 曜日 | Mon| Tue | Wed | Thr | Fri | Sat | Sun |\n",
    "| :---: | :---: | :---: | :---: | :---: | :---: | :---: | :---: |\n",
    "| 売上（千円） | 250 | 270 | 320 | 280 | 260 | 410 | 430 |\n",
    "\n",
    "bar()関数の最もシンプルな構文は次の通りです．\n",
    "\n",
    "> <font color=green>matplotlib.pyplot.bar</font>(<font color=blue>*left*</font>,<font color=blue>*height*</font>)\n",
    "\n",
    "2つの引数は2軸平面の座標を示しています．\n",
    "- left：各長方形を置くX軸上の位置\n",
    "- height：各長方形のY軸上の高さ\n",
    "\n",
    "したがって，ここではX軸の値として曜日の代わりに[1,2,3,4,5,6,7]の整数を使用します．<br>\n",
    "bar()関数の後にshow()関数でグラフを表示します．\n",
    "```Python\n",
    "plt.bar([1,2,3,4,5,6,7],[250,270,320,280,260,410,430])\n",
    "plt.show()\n",
    "```"
   ]
  },
  {
   "cell_type": "code",
   "execution_count": 5,
   "metadata": {
    "ExecuteTime": {
     "end_time": "2018-12-09T04:08:35.931253Z",
     "start_time": "2018-12-09T04:08:35.730607Z"
    }
   },
   "outputs": [
    {
     "data": {
      "image/png": "[encoded data removed]",
      "text/plain": [
       "<matplotlib.figure.Figure at 0x115696da0>"
      ]
     },
     "metadata": {},
     "output_type": "display_data"
    }
   ],
   "source": [
    "plt.bar([1,2,3,4,5,6,7],[250,270,320,280,260,410,430])\n",
    "plt.show()"
   ]
  },
  {
   "cell_type": "markdown",
   "metadata": {},
   "source": [
    "このグラフでは，曜日が明確になっておりません．幾つかのオプションを引き数にて設定します．\n",
    "```Python\n",
    "plt.bar([1,2,3,4,5,6,7],[250,270,320,280,260,410,430],\n",
    "        tick_label=['Mon','Tue','Wed','Thu','Fri','Sat','Sun'],\n",
    "        color='lightblue',\n",
    "        edgecolor='black')\n",
    "plt.ylabel('Sales (K-Yen)')\n",
    "plt.show()\n",
    "```\n",
    "- <font color=blue>tick_label</font>：X軸上のラベルを配列で指定します．\n",
    "- <font color=blue>color</font>：棒グラフの色を指定します．\n",
    "- <font color=blue>edgecolor</font>：棒グラフの縁の色を指定します．\n",
    "\n",
    "なお，matplotlibで指定できる色の表記法については色名表記の他にRGBの数値表示などが可能です．詳細についてはmatplotlibのマニュアルをご参照ください．使用できる色名称の例を挙げておきます．\n",
    "['black', 'gray', 'silver', 'lightgray', 'white', 'red', 'green', 'blue', 'yellow', 'cyan', 'lime', 'pink']\n",
    "\n",
    "さらにY軸の説明を<font color=blue>ylabel()</font>関数で記述します．\n",
    "ラベル表記の注意点として，日本語を使用すると次化けします．これはmatplotlibが独自のフォント管理を行っているためです．\n",
    "日本語のラベルを表示するには，日本語フォントのmatplotlibへの導入設定を行う必要があります．\n",
    "その方法は技術的になるため，ここでは取り扱いません．"
   ]
  },
  {
   "cell_type": "code",
   "execution_count": 6,
   "metadata": {
    "ExecuteTime": {
     "end_time": "2018-12-09T04:09:16.865443Z",
     "start_time": "2018-12-09T04:09:16.662354Z"
    }
   },
   "outputs": [
    {
     "data": {
      "image/png": "[encoded data removed]",
      "text/plain": [
       "<matplotlib.figure.Figure at 0x1156d1e80>"
      ]
     },
     "metadata": {},
     "output_type": "display_data"
    }
   ],
   "source": [
    "plt.bar([1,2,3,4,5,6,7],[250,270,320,280,260,410,430],\n",
    "       tick_label=['Mon','Tue','Wed','Thu','Fri','Sat','Sun'],\n",
    "        color='lightblue',\n",
    "        edgecolor='black')\n",
    "plt.ylabel('Sales(K-Yen)')\n",
    "plt.show()"
   ]
  },
  {
   "cell_type": "markdown",
   "metadata": {},
   "source": [
    "*****\n",
    "### 積み上げ棒グラフ\n",
    "棒グラフを積み上げて表示することは良くあります．次の例について対応してみましょう．\n",
    "\n",
    "| 曜日 | Mon| Tue | Wed | Thr | Fri | Sat | Sun |\n",
    "| :---: | :---: | :---: | :---: | :---: | :---: | :---: | :---: |\n",
    "| 第1週売上 | 250 | 270 | 320 | 280 | 260 | 410 | 430 |\n",
    "| 第2章売上 | 230 | 240 | 280 | 260 | 270 | 430 | 440 |\n",
    "\n",
    "このような2週分のデータを積み上げをグラフにします．\n",
    "棒グラフを積み上げるためにはbar()関数を週ごとに2つ発行しますが，2週目の棒グラフの開始位置を1週目のグラフの上にする必要があります．\n",
    "その設定を<font color=blue>bottom</font>引数で定義します．具体的には，bottom=[250,270,320,280,260,410,430]と設定しています．\n",
    "\n",
    "X軸のラベルを引数tick_labelで設定していましたが，プログラムを見やすくするために<font color=blue>xticks()</font>関数で与えるように変更しました．\n",
    "\n",
    "グラフに凡例をつけるために，<font color=blue>legend()</font>関数を追加します．\n",
    "regend()関数は，直前に設定された棒グラフの図の特徴とラベルを参照します．そのためにbar()関数の中で引数として<font color=blue>label</font>を与えています．\n",
    "また，棒グラフの上下関係と凡例の上下位置関係をいっしょにするために，第2週の棒グラフから描写しています．\n",
    "```Python\n",
    "left = [1,2,3,4,5,6,7]\n",
    "week1 = [250,270,320,280,260,410,430]\n",
    "week2 = [230,240,280,260,270,430,440]\n",
    "plt.bar(left,week2,bottom=week1,color='lightgreen',edgecolor='black',label='week 2')\n",
    "plt.bar(left,week1,color='lightblue',edgecolor='black',label='week 1')\n",
    "plt.xticks(left, ['Mon','Tue','Wed','Thu','Fri','Sat','Sun'])\n",
    "plt.ylabel('Sales (K-Yen)')\n",
    "plt.legend()\n",
    "plt.show()\n",
    "```"
   ]
  },
  {
   "cell_type": "code",
   "execution_count": 7,
   "metadata": {
    "ExecuteTime": {
     "end_time": "2018-12-09T04:14:32.660920Z",
     "start_time": "2018-12-09T04:14:32.426104Z"
    }
   },
   "outputs": [
    {
     "data": {
      "image/png": "[encoded data removed]",
      "text/plain": [
       "<matplotlib.figure.Figure at 0x115802f60>"
      ]
     },
     "metadata": {},
     "output_type": "display_data"
    }
   ],
   "source": [
    "left = [1,2,3,4,5,6,7]\n",
    "week1 = [250,270,320,280,260,410,430]\n",
    "week2 = [230,240,280,260,270,430,440]\n",
    "plt.bar(left,week2,bottom=week1,color='lightgreen',edgecolor='black',label='week 2')\n",
    "plt.bar(left,week1,color='lightblue',edgecolor='black',label='week 1')\n",
    "plt.xticks(left, ['Mon','Tue','Wed','Thu','Fri','Sat','Sun'])\n",
    "plt.ylabel('Sales (K-Yen)')\n",
    "plt.legend()\n",
    "plt.show()"
   ]
  },
  {
   "cell_type": "markdown",
   "metadata": {},
   "source": [
    "*****\n",
    "### 横並び棒グラフ\n",
    "積み上げ棒グラフでは夫々の値の比較ができませんが，棒グラフを横並びにすると明確に比較できます．ここでは上と同じデータについて横並びの棒グラフを作成します．\n",
    "\n",
    "横並びにするので2週目の棒グラフのbottom変数は不要となります．\n",
    "2つのグラフを横並びにするためには，幅を小さくして，表示位置をずらす必要があります．\n",
    "まず棒の幅ですがデフォルトで0.8となっています．表示位置はX軸に指定された値を中心とします．したがって1週間分しか描画しないグラフでは，月曜日の棒グラフはX軸の0.6～1.4の幅で描画されています．\n",
    "\n",
    "ここでは2つの棒が立つので，幅を0.4にします．棒の幅はbar()関数にwidth引数で与えます．したがって<font color=blue>width=0.4</font>と設定します．\n",
    "X軸の値については，月曜日のデータは第1週が0.8～1.2として，第2週は1.2～1.6とします．さらにX軸ラベルは1.2のところに表示します．これらをX軸の値にすると次のようになります．\n",
    "- week 1 :[1.0,2.0,3.0,4.0,5.0,6.0,7.0]\n",
    "- week 2 :[1.4,2.4,3.4,4.4,5.4,6.4,7.4]\n",
    "- X-label :[1.2,2.2,3.2,4.2,5.2,6.2,7.2]\n",
    "\n",
    "それでは，横並びの棒グラフを表示しましょう．\n",
    "```Python\n",
    "week1 = [250,270,320,280,260,410,430]\n",
    "week2 = [230,240,280,260,270,430,440]\n",
    "plt.bar([1.0,2.0,3.0,4.0,5.0,6.0,7.0],week1,color='lightblue',edgecolor='black',label='week 1',width=0.4)\n",
    "plt.bar([1.4,2.4,3.4,4.4,5.4,6.4,7.4],week2,color='lightgreen',edgecolor='black',label='week 2',width=0.4)\n",
    "plt.xticks([1.2,2.2,3.2,4.2,5.2,6.2,7.2], ['Mon','Tue','Wed','Thu','Fri','Sat','Sun'])\n",
    "plt.ylabel('Sales (K-Yen)')\n",
    "plt.legend()\n",
    "plt.show()\n",
    "```"
   ]
  },
  {
   "cell_type": "code",
   "execution_count": 8,
   "metadata": {
    "ExecuteTime": {
     "end_time": "2018-12-09T04:14:45.030971Z",
     "start_time": "2018-12-09T04:14:44.792377Z"
    }
   },
   "outputs": [
    {
     "data": {
      "image/png": "[encoded data removed]",
      "text/plain": [
       "<matplotlib.figure.Figure at 0x11591d668>"
      ]
     },
     "metadata": {},
     "output_type": "display_data"
    }
   ],
   "source": [
    "week1 = [250,270,320,280,260,410,430]\n",
    "week2 = [230,240,280,260,270,430,440]\n",
    "plt.bar([1.0,2.0,3.0,4.0,5.0,6.0,7.0],week1,color='lightblue',edgecolor='black',label='week 1',width=0.4)\n",
    "plt.bar([1.4,2.4,3.4,4.4,5.4,6.4,7.4],week2,color='lightgreen',edgecolor='black',label='week 2',width=0.4)\n",
    "plt.xticks([1.2,2.2,3.2,4.2,5.2,6.2,7.2], ['Mon','Tue','Wed','Thu','Fri','Sat','Sun'])\n",
    "plt.ylabel('Sales (K-Yen)')\n",
    "plt.legend()\n",
    "plt.show()"
   ]
  },
  {
   "cell_type": "markdown",
   "metadata": {},
   "source": [
    "ここまで棒グラフの積み上げと横並びを見てきましたが，設定は平面座標を使用して自由に設定できました．この応用として積み上げ棒グラフを横並びにしたようなグラフを描くこともできます.その他にもカスタマイズ次第で説明力の高いグラフを作ることが可能となります．"
   ]
  },
  {
   "cell_type": "markdown",
   "metadata": {},
   "source": [
    "*****\n",
    "### 横棒グラフ\n",
    "横棒グラフを描画するには，matplotlib.lyplotの<font color=blue>barh()</font>関数を使います．この関数の使い方は，bar()関数とほぼ同じです．\n",
    "例として，2016年の日本全国の都道府県別人口の上位10件を横棒グラフで表示します．\n",
    "\n",
    "| 県 | Tokyo | Kanagawa | Ohsaka | Aichi | Saitama | Chiba | Hyogo | Hokkaido | Fukuoka | Shizuoka |\n",
    "| :---: | :---: | :---: | :---: | :---: | :---: | :---: | :---: | :---: | :---: | :---: |\n",
    "| 人口 | 13,636,000 |9,146,000 | 8,838,000 | 7,508,000 | 7,288,000 | 6,240,000 | 5,521,000 | 5,352,000 | 5,107,000 | 3,687,000 |\n",
    "\n",
    "barh()関数の構文はbar()関数とほぼ同じですが，縦横に起因する若干の違いがあります．例えば，棒の幅はbar()関数ではwidthで与えましたがbarh()関数では<font color=blue>height</font>で与えます．\n",
    "また，Y軸ラベルを与える関数は<font color=blue>yticks()</font>となります．\n",
    "```Python\n",
    "plt.barh([10,9,8,7,6,5,4,3,2,1],[13636000,9146000,8838000,7508000,7288000,6240000,5521000,5352000,5107000,3687000])\n",
    "plt.yticks([10,9,8,7,6,5,4,3,2,1],['Tokyo','Kanagawa','Ohsaka','Aichi','Saitama','Chiba','Hyogo','Hokkaido','Fukuoka','Shizuoka'])\n",
    "plt.xlabel('Population')\n",
    "plt.show()\n",
    "```"
   ]
  },
  {
   "cell_type": "code",
   "execution_count": 9,
   "metadata": {
    "ExecuteTime": {
     "end_time": "2018-12-09T04:15:41.172566Z",
     "start_time": "2018-12-09T04:15:40.912302Z"
    }
   },
   "outputs": [
    {
     "data": {
      "image/png": "[encoded data removed]",
      "text/plain": [
       "<matplotlib.figure.Figure at 0x11587ca90>"
      ]
     },
     "metadata": {},
     "output_type": "display_data"
    }
   ],
   "source": [
    "plt.barh([10,9,8,7,6,5,4,3,2,1],[13636000,9146000,8838000,7508000,7288000,6240000,5521000,5352000,5107000,3687000])\n",
    "plt.yticks([10,9,8,7,6,5,4,3,2,1],['Tokyo','Kanagawa','Ohsaka','Aichi','Saitama','Chiba','Hyogo','Hokkaido','Fukuoka','Shizuoka'])\n",
    "plt.xlabel('Population')\n",
    "plt.show()"
   ]
  },
  {
   "cell_type": "markdown",
   "metadata": {},
   "source": [
    "積み上げや複数比較の横棒グラフについても，ここでは省略しますが，棒グラフと殆ど同じように作成することができます．"
   ]
  },
  {
   "cell_type": "markdown",
   "metadata": {},
   "source": [
    "### 折れ線グラフ\n",
    "折れ線グラフは主に時系列データをマーカーでプロットし，マーカー間を直線で結んで描画するグラフです．\n",
    "matplotlib.pyplotには折れ線グラフ用に<font color=blue>plot()</font>関数が用意されています．\n",
    "\n",
    "折れ線グラフの例として，2000年から2016年までの主要国のGDPを見てみましょう．\n",
    "\n",
    "| Year            | 2000| 2001| 2002| 2003| 2004| 2005| 2006| 2007| 2008| 2009| 2010| 2011| 2012| 2013| 2014| 2015| 2016|\n",
    "| :---            |:---:|:---:|:---:|:---:|:---:|:---:|:---:|:---:|:---:|:---:|:---:|:---:|:---:|:---:|:---:|:---:|:---:|\n",
    "| Japan GDP(\\$K)  | 4887| 4305| 4115| 4447| 4816| 4756| 4530| 4515| 5038| 5231| 5700| 6157| 6203| 5156| 4849| 4380| 4937|\n",
    "| US GDP(\\$K)     |10285|10622|10978|11511|12275|13094|13856|14478|14719|14419|14964|15518|16155|16692|17428|18121|18624|\n",
    "| China GDP(\\$K)  | 1215| 1344| 1477| 1671| 1966| 2309| 2774| 3571| 4604| 5122| 6066| 7522| 8570| 9635|10535|11226|11232|\n",
    "| Germany GDP(\\$K)| 1956| 1952| 2086| 2511| 2823| 2866| 3005| 3445| 3770| 3427| 3423| 3761| 3546| 3754| 3897| 3377| 3479|\n",
    "| Korea GDP(\\$K)  |  562|  533|  609|  681|  765|  898| 1012| 1123| 1002|  902| 1094| 1202| 1223| 1306| 1411| 1383| 1411|\n",
    "\n",
    "まず各国のGDP経年データを定義します．\n",
    "```Python\n",
    "left = [2000,2001,2002,2003,2004,2005,2006,2007,2008,2009,2010,2011,2012,2013,2014,2015,2016]\n",
    "japanGDP = [4887,4305,4115,4447,4816,4756,4530,4515,5038,5231,5700,6157,6203,5156,4849,4380,4937]\n",
    "usGDP = [10285,10622,10978,11511,12275,13094,13856,14478,14719,14419,14964,15518,16155,16692,17428,18121,18624]\n",
    "chinaGDP = [1215,1344,1477,1671,1966,2309,2774,3571,4604,5122,6066,7522,8570,9635,10535,11226,11232]\n",
    "germanyGDP = [1956,1952,2086,2511,2823,2866,3005,3445,3770,3427,3423,3761,3546,3754,3897,3377,3479]\n",
    "koreaGDP = [562,533,609,681,765,898,1012,1123,1002,902,1094,1202,1223,1306,1411,1383,1411]\n",
    "```"
   ]
  },
  {
   "cell_type": "code",
   "execution_count": 10,
   "metadata": {
    "ExecuteTime": {
     "end_time": "2018-12-09T04:16:29.259672Z",
     "start_time": "2018-12-09T04:16:29.244305Z"
    },
    "collapsed": true
   },
   "outputs": [],
   "source": [
    "left = [2000,2001,2002,2003,2004,2005,2006,2007,2008,2009,2010,2011,2012,2013,2014,2015,2016]\n",
    "japanGDP = [4887,4305,4115,4447,4816,4756,4530,4515,5038,5231,5700,6157,6203,5156,4849,4380,4937]\n",
    "usGDP = [10285,10622,10978,11511,12275,13094,13856,14478,14719,14419,14964,15518,16155,16692,17428,18121,18624]\n",
    "chinaGDP = [1215,1344,1477,1671,1966,2309,2774,3571,4604,5122,6066,7522,8570,9635,10535,11226,11232]\n",
    "germanyGDP = [1956,1952,2086,2511,2823,2866,3005,3445,3770,3427,3423,3761,3546,3754,3897,3377,3479]\n",
    "koreaGDP = [562,533,609,681,765,898,1012,1123,1002,902,1094,1202,1223,1306,1411,1383,1411]"
   ]
  },
  {
   "cell_type": "markdown",
   "metadata": {},
   "source": [
    "plot()関数を単純に使って，日本のGDPだけで折れ線グラフを作ってみましょう．plot()関数のシンプルな構文は次の通りです．\n",
    "\n",
    "> <font color=green>matplotlib.pyplot.plot</font>(<font color=blue>*left*</font>,<font color=blue>*values*</font>)\n",
    "\n",
    "2つの引数は2軸平面の座標を示しています．\n",
    "- left：X軸上の位置\n",
    "- values：Y軸上の位置\n",
    "\n",
    "```Python\n",
    "plt.plot(left,japanGDP)\n",
    "plt.show()\n",
    "```"
   ]
  },
  {
   "cell_type": "code",
   "execution_count": 11,
   "metadata": {
    "ExecuteTime": {
     "end_time": "2018-12-09T04:16:57.091071Z",
     "start_time": "2018-12-09T04:16:56.883193Z"
    }
   },
   "outputs": [
    {
     "data": {
      "image/png": "[encoded data removed]",
      "text/plain": [
       "<matplotlib.figure.Figure at 0x109344b00>"
      ]
     },
     "metadata": {},
     "output_type": "display_data"
    }
   ],
   "source": [
    "plt.plot(left,japanGDP)\n",
    "plt.show()"
   ]
  },
  {
   "cell_type": "markdown",
   "metadata": {},
   "source": [
    "グラフに情報を付加して，分かりやすいグラフに変更します．\n",
    "plot()関数のオプションとして引数として線の色，マーカーの種類，線の太さを与えます．\n",
    "\n",
    "- <font color=blue>color</font>：線の色\n",
    "- <font color=blue>marker</font>：マーカーの種類\n",
    "- <font color=blue>linewidth</font>：線の太さ\n",
    "\n",
    "plot()関数の後に，xlabel()関数とylabel()関数によって軸の説明を付けて，show()関数でグラフを表示させます．\n",
    "```Python\n",
    "plt.plot(left,japanGDP,color='red',marker='o',linewidth=3)\n",
    "plt.xlabel('Year')\n",
    "plt.ylabel('GDP ($K)')\n",
    "plt.show()\n",
    "```"
   ]
  },
  {
   "cell_type": "code",
   "execution_count": 12,
   "metadata": {
    "ExecuteTime": {
     "end_time": "2018-12-09T04:17:22.808546Z",
     "start_time": "2018-12-09T04:17:22.600391Z"
    }
   },
   "outputs": [
    {
     "data": {
      "image/png": "[encoded data removed]",
      "text/plain": [
       "<matplotlib.figure.Figure at 0x1157040f0>"
      ]
     },
     "metadata": {},
     "output_type": "display_data"
    }
   ],
   "source": [
    "plt.plot(left,japanGDP,color='red',marker='o',linewidth=3)\n",
    "plt.xlabel('Year')\n",
    "plt.ylabel('GDP ($K)')\n",
    "plt.show()"
   ]
  },
  {
   "cell_type": "markdown",
   "metadata": {},
   "source": [
    "各国のGDPを比較するために複数の折れ線を1つの図として描画します．\n",
    "凡例を付けるので，それぞれの折れ線にlabelで国名を付与します．日本と他国との比較のため，日本だけ目立つ表示にしました．\n",
    "線の種類を試すために引数<font color=blue>linestyle</font>によって破線と点線表示も行いました．\n",
    "```Python\n",
    "plt.plot(left,japanGDP,color='red',marker='o',linewidth=3,label='Japan')\n",
    "plt.plot(left,usGDP,color='blue',marker='*',label='US')\n",
    "plt.plot(left,chinaGDP,color='green',marker='*',label='China')\n",
    "plt.plot(left,germanyGDP,color='brown',marker='*',linestyle='dashed',label='Germany')\n",
    "plt.plot(left,koreaGDP,color='gray',marker='*',linestyle='dotted',label='Korea')\n",
    "plt.xlabel('Year')\n",
    "plt.ylabel('GDP ($K)')\n",
    "plt.legend()\n",
    "plt.show()\n",
    "```"
   ]
  },
  {
   "cell_type": "code",
   "execution_count": 13,
   "metadata": {
    "ExecuteTime": {
     "end_time": "2018-12-09T04:17:54.258990Z",
     "start_time": "2018-12-09T04:17:53.968299Z"
    }
   },
   "outputs": [
    {
     "data": {
      "image/png": "[encoded data removed]",
      "text/plain": [
       "<matplotlib.figure.Figure at 0x115cabb38>"
      ]
     },
     "metadata": {},
     "output_type": "display_data"
    }
   ],
   "source": [
    "plt.plot(left,japanGDP,color='red',marker='o',linewidth=3,label='Japan')\n",
    "plt.plot(left,usGDP,color='blue',marker='*',label='US')\n",
    "plt.plot(left,chinaGDP,color='green',marker='*',label='China')\n",
    "plt.plot(left,germanyGDP,color='brown',marker='*',linestyle='dashed',label='Germany')\n",
    "plt.plot(left,koreaGDP,color='gray',marker='*',linestyle='dotted',label='Korea')\n",
    "plt.xlabel('Year')\n",
    "plt.ylabel('GDP ($K)')\n",
    "plt.legend()\n",
    "plt.show()"
   ]
  },
  {
   "cell_type": "markdown",
   "metadata": {},
   "source": [
    "*****\n",
    "### ヒストグラム\n",
    "ヒストグラムは棒グラフに見た目は似ていますが，度数分布を忠実に表現するグラフとなっています．\n",
    "ヒストグラムは，データを度数分布に集約してからグラフにするので，階級の設定によってグラフの形が異なります．\n",
    "ヒストグラムを使う理由として大規模データの集約があります．どんなにデータ規模が大きくなっても，度数分布表の大きさは大きくなることはありません．\n",
    "\n",
    "まず大量のデータを用意する必要がありますが，ここでは正規分布に従うデータを用意します．\n",
    "正規分布データを生成する方法は，<font color=blue>numpy.random.normal()</font>関数での生成が便利です．\n",
    "\n",
    "> <font color=green>numpy.random.normal</font>(<font color=blue>*mean*</font>,<font color=blue>*stdev*</font>,<font color=blue>*counts*</font>)\n",
    "\n",
    "ここで各引数は下記の通りです．\n",
    "- mean：平均値\n",
    "- stdev：標準偏差\n",
    "- conts：データ件数\n",
    "\n",
    "この関数によって10000件のデータを作成します．\n",
    "```Python\n",
    "gaussData = np.random.normal(0,1,10000)\n",
    "```"
   ]
  },
  {
   "cell_type": "markdown",
   "metadata": {},
   "source": [
    "matplotlib.pyplotにはヒストグラム専用に<font color=blue>hist()</font>関数が用意されています．\n",
    "まず，何もオプションを指定せずにhist()関数で描画します．デフォルトで階級の個数が10個になります．\n",
    "```Python\n",
    "plt.hist(gaussData)\n",
    "plt.show()\n",
    "```"
   ]
  },
  {
   "cell_type": "code",
   "execution_count": 15,
   "metadata": {
    "ExecuteTime": {
     "end_time": "2018-12-09T04:19:57.004479Z",
     "start_time": "2018-12-09T04:19:56.726115Z"
    }
   },
   "outputs": [
    {
     "data": {
      "image/png": "[encoded data removed]",
      "text/plain": [
       "<matplotlib.figure.Figure at 0x115c23550>"
      ]
     },
     "metadata": {},
     "output_type": "display_data"
    }
   ],
   "source": [
    "gaussData = np.random.normal(0,1,10000)\n",
    "plt.hist(gaussData)\n",
    "plt.show()"
   ]
  },
  {
   "cell_type": "markdown",
   "metadata": {},
   "source": [
    "階級を細かくし分布を分かりやすくするために幾つかの設定を引数で指定します．\n",
    "- bins：階級の個数\n",
    "- color：棒内部の色\n",
    "- edgecolor：棒の縁の色\n",
    "\n",
    "この後にylabel()関数で縦軸にラベルを付与しています．\n",
    "```Python\n",
    "plt.hist(gaussData,bins=30,color='lightblue',edgecolor='black')\n",
    "plt.ylabel('Frequence')\n",
    "plt.show()\n",
    "```"
   ]
  },
  {
   "cell_type": "code",
   "execution_count": 16,
   "metadata": {
    "ExecuteTime": {
     "end_time": "2018-12-09T04:20:20.760306Z",
     "start_time": "2018-12-09T04:20:20.500995Z"
    }
   },
   "outputs": [
    {
     "data": {
      "image/png": "[encoded data removed]",
      "text/plain": [
       "<matplotlib.figure.Figure at 0x115c2bbe0>"
      ]
     },
     "metadata": {},
     "output_type": "display_data"
    }
   ],
   "source": [
    "plt.hist(gaussData,bins=30,color='lightblue',edgecolor='black')\n",
    "plt.ylabel('Frequence')\n",
    "plt.show()"
   ]
  },
  {
   "cell_type": "markdown",
   "metadata": {},
   "source": [
    "### 相対度数ヒストグラム\n",
    "引数に<font color=blue>normed=True</font>を指定すると，相対度数ヒストグラムになります．\n",
    "```Python\n",
    "plt.hist(gaussData,bins=30,color='lightgreen',edgecolor='black',normed=True)\n",
    "plt.ylabel('Probability density')\n",
    "plt.show()\n",
    "```"
   ]
  },
  {
   "cell_type": "markdown",
   "metadata": {},
   "source": [
    "### 累積分布ヒストグラム\n",
    "さらに引数として<font color=blue>cumulative=True</font>を指定すると累積相対度数を表すヒストグラムになります．\n",
    "```Python\n",
    "plt.hist(gaussData,bins=30,color='lightyellow',edgecolor='black',normed=True,cumulative=True)\n",
    "plt.ylabel('Cumulative probability')\n",
    "plt.show()\n",
    "```"
   ]
  },
  {
   "cell_type": "code",
   "execution_count": 17,
   "metadata": {
    "ExecuteTime": {
     "end_time": "2018-12-09T04:21:25.309507Z",
     "start_time": "2018-12-09T04:21:25.048733Z"
    }
   },
   "outputs": [
    {
     "data": {
      "image/png": "[encoded data removed]",
      "text/plain": [
       "<matplotlib.figure.Figure at 0x11332f4a8>"
      ]
     },
     "metadata": {},
     "output_type": "display_data"
    }
   ],
   "source": [
    "plt.hist(gaussData,bins=30,color='lightyellow',edgecolor='black',normed=True,cumulative=True)\n",
    "plt.ylabel('Cumulative probability')\n",
    "plt.show()"
   ]
  },
  {
   "cell_type": "markdown",
   "metadata": {},
   "source": [
    "*****\n",
    "### 散布図\n",
    "散布図は2つの変量間の関連性を位置関係で確認するグラフです．\n",
    "夫々の変量をX軸とY軸として2次元の平面上に個々のデータをプロットします．\n",
    "matplotlib.pyplotには散布図用に<font color=blue>scatter()</font>関数が用意されています．\n",
    "\n",
    "日本の幾つかの都道府県の人口と法人数および法人税を用いて散布図を描画してみます．\n",
    "\n",
    "\n",
    "| 県 | 人口 | 法人数 | 法人税(十億円) |\n",
    "| :---: | :---: | :---: | :---: |\n",
    "| Hokkaido|  5,352,000 | 119,560 |    683 |\n",
    "| Miyagi  |  2,329,000 |  41,000 |    386 |\n",
    "| Tokyo   | 13,636,000 | 575,200 | 15,033 |\n",
    "| Aichi   |  7,508,000 | 153,700 |  2,717 |\n",
    "| Ohsaka  |  8,838,000 | 223,400 |  4,296 |\n",
    "| Fukuoka |  5,107,000 |  83,600 |    919 |\n",
    "| Okinawa |  1,440,000 |  16,600 |    114 |\n",
    "\n",
    "```Python\n",
    "prefecture = ['Hokkaido','Miyagi','Tokyo','Aichi','Ohsaka','Fukuoka','Okinawa']\n",
    "population = [5352000,2329000,13636000,7508000,8838000,5107000,1440000]\n",
    "corporate = [119560,41000,575200,153700,223400,83600,16600]\n",
    "corpTax = [683,386,15033,2717,4296,919,114]\n",
    "```"
   ]
  },
  {
   "cell_type": "code",
   "execution_count": 18,
   "metadata": {
    "ExecuteTime": {
     "end_time": "2018-12-09T04:21:35.456970Z",
     "start_time": "2018-12-09T04:21:35.448971Z"
    },
    "collapsed": true
   },
   "outputs": [],
   "source": [
    "prefecture = ['Hokkaido','Miyagi','Tokyo','Aichi','Ohsaka','Fukuoka','Okinawa']\n",
    "population = [5352000,2329000,13636000,7508000,8838000,5107000,1440000]\n",
    "corporate = [119560,41000,575200,153700,223400,83600,16600]\n",
    "corpTax = [683,386,15033,2717,4296,919,114]"
   ]
  },
  {
   "cell_type": "markdown",
   "metadata": {
    "ExecuteTime": {
     "end_time": "2018-12-09T04:21:50.434765Z",
     "start_time": "2018-12-09T04:21:50.422414Z"
    }
   },
   "source": [
    "X軸を人口として，Y軸を法人数にした場合の散布図をscatter()関数によって描画します．scatter()関数にも様々なオプションがありますが，先ずはデフォルト設定での表示を見てみましょう．\n",
    "scatter()関数の呼出し形式は次の通りです．\n",
    "\n",
    "> <font color=green>matplotlib.pyplot.scatter</font>(<font color=blue>x_data</font>,<font color=blue>y_data</font>)\n",
    "\n",
    "```Python\n",
    "plt.scatter(population,corporate)\n",
    "plt.show()\n",
    "```"
   ]
  },
  {
   "cell_type": "code",
   "execution_count": 20,
   "metadata": {
    "ExecuteTime": {
     "end_time": "2018-12-09T04:22:01.686441Z",
     "start_time": "2018-12-09T04:22:01.496478Z"
    }
   },
   "outputs": [
    {
     "data": {
      "image/png": "[encoded data removed]",
      "text/plain": [
       "<matplotlib.figure.Figure at 0x1156ec320>"
      ]
     },
     "metadata": {},
     "output_type": "display_data"
    }
   ],
   "source": [
    "plt.scatter(population,corporate)\n",
    "plt.show()"
   ]
  },
  {
   "cell_type": "markdown",
   "metadata": {},
   "source": [
    "この散布図に幾つかの設定を追加します．先ずは，scatter()関数の引数で下記の指定をします．\n",
    "- s：マーカーのサイズ指定\n",
    "- color：マーカー内部の色\n",
    "- edgecolor：マーカーの縁の色\n",
    "- alpha：マーカーの透明度（0=不透明～1=透明）\n",
    "\n",
    "scatter()関数の後にxlabel()関数とylabel()関数によって，X軸とY軸の説明を付けます．\n",
    "また，grid(True)関数を発行することによって，格子状の補助線を表示します．\n",
    "```Python\n",
    "plt.scatter(population,corporate,s=500,color='lightgreen',edgecolor='black',alpha=0.5)\n",
    "plt.xlabel('Population')\n",
    "plt.ylabel('Corporate')\n",
    "plt.grid(True)\n",
    "plt.show()\n",
    "```"
   ]
  },
  {
   "cell_type": "code",
   "execution_count": 21,
   "metadata": {
    "ExecuteTime": {
     "end_time": "2018-12-09T04:22:25.191385Z",
     "start_time": "2018-12-09T04:22:24.962790Z"
    }
   },
   "outputs": [
    {
     "data": {
      "image/png": "[encoded data removed]",
      "text/plain": [
       "<matplotlib.figure.Figure at 0x115c24ac8>"
      ]
     },
     "metadata": {},
     "output_type": "display_data"
    }
   ],
   "source": [
    "plt.scatter(population,corporate,s=500,color='lightgreen',edgecolor='black',alpha=0.5)\n",
    "plt.xlabel('Population')\n",
    "plt.ylabel('Corporate')\n",
    "plt.grid(True)\n",
    "plt.show()"
   ]
  },
  {
   "cell_type": "markdown",
   "metadata": {},
   "source": [
    "### 複数グループの散布図\n",
    "複数グループのデータを一つの散布図上にプロットします．グループを区別するためにマーカーの色と形を違うものにします．\n",
    "ここでは，各グループのデータを乱数によって人工的に生成します．\n",
    "```Python\n",
    "x1= np.random.normal(150,30,33); y1= np.random.normal(200,30,33)\n",
    "x2= np.random.normal(200,30,33); y2= np.random.normal(150,30,33)\n",
    "x3= np.random.normal(100,30,33); y3= np.random.normal(100,30,33)\n",
    "```"
   ]
  },
  {
   "cell_type": "code",
   "execution_count": 22,
   "metadata": {
    "ExecuteTime": {
     "end_time": "2018-12-09T04:23:36.080523Z",
     "start_time": "2018-12-09T04:23:36.069242Z"
    },
    "collapsed": true
   },
   "outputs": [],
   "source": [
    "x1= np.random.normal(150,30,33); y1= np.random.normal(200,30,33)\n",
    "x2= np.random.normal(200,30,33); y2= np.random.normal(150,30,33)\n",
    "x3= np.random.normal(100,30,33); y3= np.random.normal(100,30,33)"
   ]
  },
  {
   "cell_type": "markdown",
   "metadata": {},
   "source": [
    "3グループのデータをプロットするためにscatter()関数を3回発行します．夫々において，用意したデータとマーカーの色と形を設定します．また凡例を付けるためにグループに対してラベルを設定します.\n",
    "\n",
    "scatter()関数の引数として以下の指定を行います．\n",
    "- marker：マーカーの種類を設定します．\n",
    "- color：マーカーの色を設定します．\n",
    "- label：グループに対してラベルを設定します．\n",
    "\n",
    "この後，X軸とY軸のラベルと凡例を設定してから表示します．\n",
    "```Python\n",
    "plt.scatter(x1,y1,marker='o',color='blue',label='A group')\n",
    "plt.scatter(x2,y2,marker='^',color='green',label='B group')\n",
    "plt.scatter(x3,y3,marker='s',color='red',label='C group')\n",
    "plt.xlabel('X-axis')\n",
    "plt.ylabel('Y-axis')\n",
    "plt.legend()\n",
    "plt.show()\n",
    "```"
   ]
  },
  {
   "cell_type": "code",
   "execution_count": 23,
   "metadata": {
    "ExecuteTime": {
     "end_time": "2018-12-09T04:23:43.701269Z",
     "start_time": "2018-12-09T04:23:43.446025Z"
    }
   },
   "outputs": [
    {
     "data": {
      "image/png": "[encoded data removed]",
      "text/plain": [
       "<matplotlib.figure.Figure at 0x115b3eda0>"
      ]
     },
     "metadata": {},
     "output_type": "display_data"
    }
   ],
   "source": [
    "plt.scatter(x1,y1,marker='o',color='blue',label='A group')\n",
    "plt.scatter(x2,y2,marker='^',color='green',label='B group')\n",
    "plt.scatter(x3,y3,marker='s',color='red',label='C group')\n",
    "plt.xlabel('X-axis')\n",
    "plt.ylabel('Y-axis')\n",
    "plt.legend()\n",
    "plt.show()"
   ]
  },
  {
   "cell_type": "markdown",
   "metadata": {},
   "source": [
    "matplotlibには，ここで紹介したグラフ以外にも多くの作図機能を持っていますが，このパッケージの説明はこれにて終了します．\n",
    "まずは，これらのグラフを活用してください．また作図にあたって各機能の詳細な情報が必要になります．\n",
    "そのため，matplotlibのマニュアルを参照して活用できるようにしましょう．\n",
    "各グラフの作成方法の詳細を覚えておく必要はありません．必要になったときにマニュアルで確認しながら作成しましょう．\n",
    "また，具体的には試行錯誤して理解することも実践的な対応です．実際の業務データでの試行錯誤の繰り返しが経験となっていくことでしょう．\n",
    "*****"
   ]
  },
  {
   "cell_type": "code",
   "execution_count": null,
   "metadata": {
    "collapsed": true
   },
   "outputs": [],
   "source": []
  },
  {
   "cell_type": "markdown",
   "metadata": {
    "ExecuteTime": {
     "end_time": "2018-11-23T06:45:09.328112Z",
     "start_time": "2018-11-23T06:45:09.319315Z"
    }
   },
   "source": [
    "## Google 検索と表示、保存"
   ]
  },
  {
   "cell_type": "markdown",
   "metadata": {},
   "source": [
    "### 要件定義\n",
    "- コマンドラインから検索キーワードを入力\n",
    "- ブラウザを自動的に起動する\n",
    "- 検索結果ページを取得する\n",
    "- 検索結果ブラウザのタブで開く\n",
    "- 検索結果をファイル保存　検索キーワード（先頭XX文字分）をフォルダ名に、ファイル名をタイトル先頭XX文字\n",
    "\n"
   ]
  },
  {
   "cell_type": "markdown",
   "metadata": {},
   "source": [
    "### システム設計\n",
    "- sys.argvからコマンドライン引数を読み込む。\n",
    "- requestsモジュールを用いて検索結果のページを取得する。 \n",
    "- 検索結果からリンクを見つける。\n",
    "- webbrowser.open()関数を呼び出してWebブラウザを開く。 \n"
   ]
  },
  {
   "cell_type": "markdown",
   "metadata": {
    "ExecuteTime": {
     "end_time": "2018-11-23T07:46:45.371941Z",
     "start_time": "2018-11-23T07:46:45.362621Z"
    }
   },
   "source": [
    "#### jupyter notebook上で検索語を入力してみる"
   ]
  },
  {
   "cell_type": "code",
   "execution_count": 1,
   "metadata": {
    "ExecuteTime": {
     "end_time": "2018-11-23T08:54:22.257096Z",
     "start_time": "2018-11-23T08:54:12.897194Z"
    }
   },
   "outputs": [
    {
     "name": "stdout",
     "output_type": "stream",
     "text": [
      "Googling...\n",
      "検索ワードを入力python\n"
     ]
    }
   ],
   "source": [
    "#! python3\n",
    "# lucky.py - Google検索結果をいくつか開く\n",
    "import requests, sys, webbrowser, bs4, csv\n",
    "print('Googling...') \n",
    "kws = str(input(\"検索ワードを入力\"))\n",
    "# Googleページをダウンロード中にテキストを表示 \n",
    "res = requests.get('http://google.com/search?q=' + ' '.join(kws))\n",
    "res.raise_for_status()\n",
    "# TODO: 上位の検索結果のリンクを取得する\n",
    "soup = bs4.BeautifulSoup(res.text, \"lxml\") \n",
    "link_elems = soup.select('.r a')\n",
    "link_elems01 =soup.select('.s .st')\n",
    "# TODO: 各結果をブラウザのタブで開く\n",
    "num_open = min(5, len(link_elems)) \n",
    "for i in range(num_open):\n",
    "    webbrowser.open('http://google.com' + link_elems[i].get('href'))"
   ]
  },
  {
   "cell_type": "code",
   "execution_count": 5,
   "metadata": {
    "ExecuteTime": {
     "end_time": "2018-11-23T08:56:35.363277Z",
     "start_time": "2018-11-23T08:56:35.343038Z"
    },
    "collapsed": true
   },
   "outputs": [],
   "source": [
    "with open('g_output.csv','w',newline='',encoding='utf-8') as outcsv:\n",
    "    csvwriter = csv.writer(outcsv)\n",
    "    csvwriter.writerow(['タイトル・説明','URL'])\n",
    "    for i in range(num_open):\n",
    "        link_text = link_elems[i].get('href').replace('/url?q=','')\n",
    "        title_text = link_elems01[i].get_text()\n",
    "        csvwriter.writerow([title_text, link_text])\n",
    "    outcsv.close()"
   ]
  },
  {
   "cell_type": "code",
   "execution_count": 41,
   "metadata": {
    "ExecuteTime": {
     "end_time": "2018-11-23T08:41:36.594170Z",
     "start_time": "2018-11-23T08:41:36.574585Z"
    }
   },
   "outputs": [
    {
     "name": "stdout",
     "output_type": "stream",
     "text": [
      "https://www.python.org/&sa=U&ved=0ahUKEwjG1tTriureAhXJu7wKHbXfBLgQFggUMAA&usg=AOvVaw0ibRzx8Taen8XojePIHnbI The official home of the Python Programming Language.\n",
      "https://www.python.jp/&sa=U&ved=0ahUKEwjG1tTriureAhXJu7wKHbXfBLgQFggfMAE&usg=AOvVaw1rOYTzgnP0HoXlRBAsQP6T 国立情報学研究所では、国内外のオープンサイエンスの動向に対応し、研究データを\n",
      "適切に管理・公開するためのサービスを国内の大学や研究機関に提供するために、\n",
      "平成２９年度より研究データ基盤構築の事業を実施しています。 開発する研究データ\n",
      "基盤は、 ...\n",
      "https://ja.wikipedia.org/wiki/Python&sa=U&ved=0ahUKEwjG1tTriureAhXJu7wKHbXfBLgQFgglMAI&usg=AOvVaw3IpqhritnW2ti7EcDnhBxL Python（パイソン）は、汎用のプログラミング言語である。コードがシンプルで扱いやすく\n",
      "設計されており、C言語などに比べて、さまざまなプログラムを分かりやすく、少ない\n",
      "コード行数で書けるといった特徴がある。\n",
      "https://www.sejuku.net/blog/7720&sa=U&ved=0ahUKEwjG1tTriureAhXJu7wKHbXfBLgQFggwMAM&usg=AOvVaw0-im684pWVtHhaXRjTAG5c 2016年7月7日 ... 近年注目されているプログラミング言語に「Python（パイソン）」があります。 実際に\n",
      "Pythonについて調べてみると、プログラミング経験者向けの記事やWikipediaには\n",
      "難しい単語が羅列されているため、 「調べても結局何を言っているのか分から ...\n",
      "https://www.javadrive.jp/python/&sa=U&ved=0ahUKEwjG1tTriureAhXJu7wKHbXfBLgQFgg5MAQ&usg=AOvVaw2QuFDTG4eWolt2nUTuispN Pythonを使ってプログラミングの学習を開始される方を対象として、Pythonを使った\n",
      "プログラムの記述方法や実行までをサンプルを使いながら順に学習していきます。\n"
     ]
    }
   ],
   "source": [
    "for i in range(num_open):\n",
    "    link_text = link_elems[i].get('href').replace('/url?q=','')\n",
    "    title_text = link_elems01[i].get_text()\n",
    "    print(link_text, title_text)"
   ]
  },
  {
   "cell_type": "code",
   "execution_count": 22,
   "metadata": {
    "ExecuteTime": {
     "end_time": "2018-11-23T07:59:35.535926Z",
     "start_time": "2018-11-23T07:59:35.522137Z"
    }
   },
   "outputs": [
    {
     "name": "stdout",
     "output_type": "stream",
     "text": [
      "<!doctype html><html itemscope=\"\" itemtype=\"http://schema.org/SearchResultsPage\" lang=\"ja\"><head><meta content=\"text/html; charset=UTF-8\" http-equiv=\"Content-Type\"><meta content=\"/images/branding/googleg/1x/googleg_standard_color_128dp.png\" itemprop=\"image\"><noscript><meta content=\"0;url=/search?q=b+s+4+++p+y+t+h+o+n&amp;ie=UTF-8&amp;gbv=1&amp;sei=JLD3W9LsBYOs8QWMwJioDw\" http-equiv=\"refresh\"><style>table,div,span,p{display:none}</style><div style=\"display:block\">&#25968;&#31186;&#12383;&#12387;&#12390;&#12418;&#12522;&#12480;&#12452;&#12524;&#12463;&#12488;&#12373;&#12428;&#12394;&#12356;&#22580;&#21512;&#12399;&#12289;<a href=\"/search?q=b+s+4+++p+y+t+h+o+n&amp;ie=UTF-8&amp;gbv=1&amp;sei=JLD3W9LsBYOs8QWMwJioDw\">&#12371;&#12371;&#12434;&#12463;&#12522;&#12483;&#12463;</a>&#12375;&#12390;&#12367;&#12384;&#12373;&#12356;&#12290;</div></noscript><title>b s 4   p y t h o n - Google &#26908;&#32034;</title><style>#gbar,#guser{font-size:13px;padding-top:1px !important;}#gbar{height:22px}#guser{padding-bottom:7px !important;text-align:right}.gbh,.gbd{border-top:1px solid #c9d7f1;font-size:1px}.gbh{height:0;position:absolute;top:24px;width:100%}@media all{.gb1{height:22px;margin-right:.5em;vertical-align:top}#gbar{float:left}}a.gb1,a.gb4{text-decoration:underline !important}a.gb1,a.gb4{color:#00c !important}.gbi .gb4{color:#dd8e27 !important}.gbf .gb4{color:#900 !important} </style><style>.star{float:left;margin-top:1px;overflow:hidden}.ybhkme{font-size:11px}.j{width:34em}body,td,div,.p,a{font-family:arial,sans-serif;tap-highlight-color:rgba(255,255,255,0)}body{margin:0}a img{border:0}#gbar{float:left;height:22px;padding-left:2px;font-size:13px}.gsfi,.gsfs{font-size:17px}.w,.q:active,.q:visited,.tbotu{color:#11c}a.gl{text-decoration:none}#foot{padding:0 8px}#foot a{white-space:nowrap}h3{font-size:16px;font-weight:normal;margin:0;padding:0}#res h3{display:inline}.hd{height:1px;position:absolute;top:-1000em}.g,body,html,table,.std{font-size:13px}.g{margin-bottom:23px;margin-top:0;zoom:1}ol li,ul li{list-style:none}h1,ol,ul,li{margin:0;padding:0}.e{margin:2px 0 0.75em}#leftnav a{text-decoration:none}#leftnav h2{color:#767676;font-weight:normal;margin:0}#nav{border-collapse:collapse;margin-top:17px;text-align:left}#nav td{text-align:center}.nobr{white-space:nowrap}.ts{border-collapse:collapse}.s br{display:none}.csb{display:block;height:40px}.images_table td{line-height:17px;padding-bottom:16px}.images_table img{border:1px solid #ccc;padding:1px}#tbd,#abd{display:block;min-height:1px}#abd{padding-top:3px}#tbd li{display:inline}.TIrJXe,.UU5df{margin-bottom:8px}#tbd .tbt li{display:block;font-size:13px;line-height:1.2;padding-bottom:3px;padding-left:8px;text-indent:-8px}.tbos,.b{font-weight:bold}em{font-weight:bold;font-style:normal}.mime{color:#1a0dab;font-weight:bold;font-size:x-small}.soc a{text-decoration:none}.soc{color:#808080}.ul7Gbc{color:#e7711b}#Db7kif{border:1px solid #e0e0e0;margin-left:-8px;margin-right:-8px;padding:15px 20px 5px}.mrH1y{font-size:32px}.PZ6wOb{color:#777;font-size:16px;margin-top:5px}.gwrItc{color:#777;font-size:14px;margin-top:5px}.SVob4e{border:1px solid #e0e0e0;padding-left:20px}.mYu5Hb{border:1px solid #e0e0e0;padding:5px 20px}#vob{border:1px solid #e0e0e0;padding:15px 15px}#ZjIC2e{font-size:22px;line-height:22px;padding-bottom:5px}#vob_st{line-height:1.24}.DfLGHd{border-width:1px;border-style:solid;border-color:#eee;background-color:#fff;position:relative;margin-bottom:26px}.uRIxYb,.NjTIc,.PftIHd,.DXoZmb{font-family:Arial;font-weight:lighter}.uRIxYb{margin-bottom:5px}.uRIxYb{font-size:xx-large}.NjTIc{font-size:medium}.PftIHd{font-size:large}.DXoZmb{font-size:small}.DfLGHd{margin-left:-8px;margin-right:-15px;padding:20px 20px 24px}.ernfsc{border-spacing:0px 2px}.D3VFNd{max-width:380px;text-overflow:ellipsis;white-space:nowrap;overflow:hidden;padding-left:0px}.c1Ujmc{padding-left:15px;white-space:nowrap;color:#666}.EjZtie{padding-left:0px}.SFt5jb{color:#212121}.Pt7r9e{color:#878787}.bkcGhd{color:#093}.fIP9ce{color:#c00}.LDBB9d{padding:1px}.gssb_a{padding:0 10px !important}.gssb_c{left:132px !important;right:295px !important;top:78px !important;width:572px !important}.gssb_c table{font-size:16px !important}.gssb_e{border:1px solid #ccc !important;border-top-color:#d9d9d9 !important}.gssb_i{background:#eee !important}#res{padding:0 8px}#rhs_block{padding-top:43px}#MCN7mf{padding:0 8px}#subform_ctrl{font-size:11px;height:17px;margin:5px 3px 0 17px}.taf{padding-bottom:3px}.WIkLp{padding:20px 0 3px}.FuZzl{padding:20px 0 3px}#topstuff .e{padding-bottom:6px}.slk .sld{width:250px}.slk{margin-bottom:-3px}.slk .zaHRAf{padding-bottom:5px;width:250px}.ac,.st{line-height:1.24}.a1DBFd,#ofr{font-size:16px;margin:1em 0;padding:0 8px}.tZz6cc{padding-bottom:25px}.s{color:#545454}.ac{color:#545454}a.fl,.A8ul6 a,.osl a{color:#1a0dab;text-decoration:none}a:link{color:#1a0dab;cursor:pointer}#tads a:link{color:#1a0dab}#tads .soc a:link{color:#808080}a:visited{color:#61C}.blg a{text-decoration:none}cite,cite a:link{color:#006621;font-style:normal}#tads cite{color:#006621}.hJND5c{font-size:15px}.kvs{margin-top:1px}.hJND5c,.kvs,.slp{display:block;margin-bottom:1px}.kt{border-spacing:2px 0;margin-top:1px}.f{color:#808080}.L4Zeue{color:#093}h4.r{display:inline;font-size:small;font-weight:normal}.g{line-height:1.2}.NpC9Hd{display:inline-block;vertical-align:top;overflow:hidden;position:relative}.COi8F{margin:0 0 2em 1.3em}.COi8F li{list-style-type:disc}.osl{color:#777;margin-top:4px}.r{font-size:16px;margin:0}.gL9Hy{font-size:16px}.spell_orig{font-size:13px}.spell_orig a{text-decoration:none}.spell_orig b i{font-style:normal;font-weight:normal}.th{border:1px solid #ebebeb}.ts td{padding:0}.videobox{padding-bottom:3px}.slk a{text-decoration:none}#leftnav a:hover,#leftnav .tbou a:hover,.slk h3 a,a:hover{text-decoration:underline}#mn{table-layout:fixed;width:100%}#leftnav a{color:#222;font-size:13px}#leftnav{padding:43px 4px 4px 0}.tbos{color:#dd4b39}.tbt{margin-bottom:28px}#tbd{padding:0 0 0 16px}.tbou a{color:#222}#center_col{border:0;padding:0 8px 0 0}#topstuff .e{padding-top:3px}#topstuff .p64x9c{padding-top:6px}#ab_name{color:#dd4b39;font:20px \"Arial\";margin-left:15px}#resultStats{color:#999;font-size:13px;overflow:hidden;white-space:nowrap}.mslg>td{padding-right:1px;padding-top:2px}.slk .sld{margin-top:2px;padding:5px 0 5px 5px}.fmp{padding-top:3px}.close_btn{overflow:hidden}#fll a,#bfl a{color:#1a0dab !important;margin:0 12px;text-decoration:none !important}.ng{color:#dd4b39}#mss{margin:.33em 0 0;padding:0;display:table}.NYKCib{display:inline-block;float:left;white-space:nowrap;padding-right:16px}#mss p{margin:0;padding-top:5px}.tn{border-bottom:1px solid #ebebeb;display:block;float:left;height:59px;line-height:54px;min-width:980px;padding:0;position:relative;white-space:nowrap}.qrSWbe,a.qrSWbe{color:#777;cursor:pointer;display:inline-block;font-family:arial,sans-serif;font-size:small;height:54px;line-height:54px;margin:0 8px;padding:0 8px;text-decoration:none;white-space:nowrap}.tnuiC{border-bottom:3px solid #dd4b39;color:#dd4b39;font-weight:bold;margin:2px 8px 0}a.KDZjCd:hover{color:black;text-decoration:none;white-space:nowrap}body{margin:0;padding:0}.sFTC8c{display:inline-block;float:left;margin-top:2px}.pqkqJe,a.pqkqJe{margin-left:1px}.sd{line-height:43px;padding:0 8px 0 9px}a:active,.osl a:active,.tbou a:active,#leftnav a:active{color:#dd4b39}#bfl a:active{color:#dd4b39 !important}.csb{background:url(/images/nav_logo229.png) no-repeat;overflow:hidden}.close_btn{background:url(/images/nav_logo229.png) no-repeat -138px -84px;height:14px;width:14px;display:block}.star{background:url(/images/nav_logo229.png) no-repeat -94px -245px;height:13px;width:65px;display:block}.star div,.star span{background:url(/images/nav_logo229.png) no-repeat 0 -245px;height:13px;width:65px;display:block}.Pj9hGd{display:inline;margin:0 3px;outline-color:transparent;overflow:hidden;position:relative}.Pj9hGd>div{outline-color:transparent}.CiacGf{border-color:transparent;border-style:solid dashed dashed;border-top-color:green;border-width:4px 4px 0 4px;cursor:pointer;display:inline-block;font-size:0;height:0;left:4px;line-height:0;outline-color:transparent;position:relative;top:-3px;width:0}.CiacGf{margin-top:-4px}.am-dropdown-menu{display:block;background:#fff;border:1px solid #dcdcdc;font-size:13px;left:0;padding:0;position:absolute;right:auto;white-space:nowrap;z-index:3}.mUpfKd{list-style:none;white-space:nowrap}.mUpfKd:hover{background-color:#eee}a.imx0m{color:#333;cursor:pointer;display:block;padding:7px 18px;text-decoration:none}#tads a.imx0m{color:#333}.sfbgg{background:#f1f1f1;border-bottom:1px solid #e5e5e5;height:71px}#logocont{z-index:1;padding-left:4px;padding-top:4px}#logo{display:block;height:49px;margin-top:12px;margin-left:12px;overflow:hidden;position:relative;width:137px}#logo img{left:0;position:absolute;top:-41px}.lst-a{background:white;border:1px solid #d9d9d9;border-top-color:silver;width:570px}.lst-a:hover{border:1px solid #b9b9b9;border-top:1px solid #a0a0a0;box-shadow:inset 0 1px 2px rgba(0,0,0,0.1);-webkit-box-shadow:inset 0 1px 2px rgba(0,0,0,0.1);-moz-box-shadow:inset 0 1px 2px rgba(0,0,0,0.1)}.lst-td{border:none;padding:0}.tia input{border-right:none;padding-right:0}.tia{padding-right:0}.lst{background:none;border:none;color:#000;font:16px arial,sans-serif;float:left;height:22px;margin:0;padding:3px 6px 2px 9px;vertical-align:top;width:100%;word-break:break-all}.lst:focus{outline:none}.lst-b{background:none;border:none;height:26px;padding:0 6px 0 12px}.ds{border-right:1px solid #e7e7e7;position:relative;height:29px;margin-left:17px;z-index:100}.lsbb{background-image:-moz-linear-gradient(top,#4d90fe,#4787ed);background-image:-ms-linear-gradient(top,#4d90fe,#4787ed);background-image:-o-linear-gradient(top,#4d90fe,#4787ed);background-image:-webkit-gradient(linear,left top,left bottom,from(#4d90fe),to(#4787ed));background-image:-webkit-linear-gradient(top,#4d90fe,#4787ed);background-image:linear-gradient(top,#4d90fe,#4787ed);border:1px solid #3079ed;border-radius:2px;background-color:#4d90fe;height:27px;width:68px}.lsbb:hover{background-image:-moz-linear-gradient(top,#4d90fe,#357ae8);background-image:-ms-linear-gradient(top,#4d90fe,#357ae8);background-image:-o-linear-gradient(top,#4d90fe,#357ae8);background-image:-webkit-gradient(linear,left top,left bottom,from(#4d90fe),to(#357ae8));background-image:-webkit-linear-gradient(top,#4d90fe,#357ae8);background-color:#357ae8;background-image:linear-gradient(top,#4d90fe,#357ae8);border:1px solid #2f5bb7}.lsb{background:transparent;background-position:0 -343px;background-repeat:repeat-x;border:none;color:#000;cursor:default;font:15px arial,sans-serif;height:29px;margin:0;vertical-align:top;width:100%}.lsb:active{-moz-box-shadow:inset 0 1px 2px rgba(0,0,0,0.3);-webkit-box-shadow:inset 0 1px 2px rgba(0,0,0,0.3);box-shadow:inset 0 1px 2px rgba(0,0,0,0.3);background:transparent;color:transparent;overflow:hidden;position:relative;width:100%}.sbico{color:transparent;display:inline-block;height:15px;margin:0 auto;margin-top:2px;width:15px;overflow:hidden}</style><script nonce=\"IJYneu8/y90+TSj1EWl05w==\">(function(){window.google={kEI:'JLD3W9LsBYOs8QWMwJioDw',kEXPI:'0,18167,2615,1332965,2014,1017,1406,546,151,528,590,140,143,183,293,410,770,30,195,329,28,273,402,457,108,98,74,87,77,2336196,197,32,45,23,6,1,302914,26305,1294,10193,2190,4855,22661,10031,15247,867,316,11847,16521,369,1212,2102,1263,2869,1373,2442,260,1028,4079,575,835,284,2,297,282,727,614,1817,255,1107,1712,2611,2096,666,628,8,1524,11,34,222,552,149,1355,611,139,4740,6,519,22,604,2,1965,528,3,2064,182,283,556,3249,535,515,334,130,1344,386,8,1003,81,7,28,463,620,29,1010,369,16,458,467,2,2735,375,4558,316,874,412,2,554,79,2236,319,273,108,1,930,303,1220,38,363,557,439,134,145,28,127,273,226,715,96,290,943,38,484,47,1080,542,359,389,420,660,359,7,87,420,282,25,450,209,25,60,117,286,265,429,99,216,91,2,11,1,354,122,143,217,37,2008,265,35,2,484,236,371,188,639,7,213,241,5,115,39,17,203,81,3,45,272,97,249,247,109,420,244,42,271,113,537,194,289,24,8,22,260,299,1114,5977599,2553,161,5997440,90',authuser:0,kscs:'c9c918f0_JLD3W9LsBYOs8QWMwJioDw',kGL:'JP'};google.kHL='ja';})();google.time=function(){return(new Date).getTime()};(function(){google.lc=[];google.li=0;google.getEI=function(a){for(var b;a&&(!a.getAttribute||!(b=a.getAttribute(\"eid\")));)a=a.parentNode;return b||google.kEI};google.getLEI=function(a){for(var b=null;a&&(!a.getAttribute||!(b=a.getAttribute(\"leid\")));)a=a.parentNode;return b};google.https=function(){return\"https:\"==window.location.protocol};google.ml=function(){return null};google.log=function(a,b,e,c,g){if(a=google.logUrl(a,b,e,c,g)){b=new Image;var d=google.lc,f=google.li;d[f]=b;b.onerror=b.onload=b.onabort=function(){delete d[f]};google.vel&&google.vel.lu&&google.vel.lu(a);b.src=a;google.li=f+1}};google.logUrl=function(a,b,e,c,g){var d=\"\",f=google.ls||\"\";e||-1!=b.search(\"&ei=\")||(d=\"&ei=\"+google.getEI(c),-1==b.search(\"&lei=\")&&(c=google.getLEI(c))&&(d+=\"&lei=\"+c));c=\"\";!e&&google.cshid&&-1==b.search(\"&cshid=\")&&\"slh\"!=a&&(c=\"&cshid=\"+google.cshid);a=e||\"/\"+(g||\"gen_204\")+\"?atyp=i&ct=\"+a+\"&cad=\"+b+d+f+\"&zx=\"+google.time()+c;/^http:/i.test(a)&&google.https()&&(google.ml(Error(\"a\"),!1,{src:a,glmm:1}),a=\"\");return a};}).call(this);(function(){google.y={};google.x=function(a,b){if(a)var c=a.id;else{do c=Math.random();while(google.y[c])}google.y[c]=[a,b];return!1};google.lm=[];google.plm=function(a){google.lm.push.apply(google.lm,a)};google.lq=[];google.load=function(a,b,c){google.lq.push([[a],b,c])};google.loadAll=function(a,b){google.lq.push([a,b])};}).call(this);google.f={};(function(){var b={gen204:\"dcl\",clearcut:4};var c=[function(){google.c&&google.tick(\"load\",b)}];google.dclc=function(a){c.length?c.push(a):a()};function d(){for(var a;a=c.shift();)a()}window.addEventListener?(document.addEventListener(\"DOMContentLoaded\",d,!1),window.addEventListener(\"load\",d,!1)):window.attachEvent&&window.attachEvent(\"onload\",d);}).call(this);</script><script type=\"text/javascript\" nonce=\"IJYneu8/y90+TSj1EWl05w==\"></script><script nonce=\"IJYneu8/y90+TSj1EWl05w==\">(function(){google.sham=function(c){for(var d=c.parentElement,a=null,b=0;b<d.childNodes.length;b++){var e=d.childNodes[b];-1<(\" \"+e.className+\" \").indexOf(\" am-dropdown-menu \")&&(a=e)}\"none\"==a.style.display?(a.style.display=\"\",google.log(\"hpam\",\"&ved=\"+c.getAttribute(\"data-ved\"))):a.style.display=\"none\"};}).call(this);(function(){var b=[];google.jsc={xx:b,x:function(a){b.push(a)},mm:[],m:function(a){google.jsc.mm.length||(google.jsc.mm=a)}};}).call(this);</script></head><body class=\"hsrp\" bgcolor=\"#ffffff\" marginheight=\"0\" marginwidth=\"0\" topmargin=\"0\"><div id=gbar><nobr><b class=gb1>&#26908;&#32034;</b> <a class=gb1 href=\"http://www.google.co.jp/search?hl=ja&tbm=isch&source=og&tab=wi\">&#30011;&#20687;</a> <a class=gb1 href=\"http://maps.google.co.jp/maps?hl=ja&tab=wl\">&#12510;&#12483;&#12503;</a> <a class=gb1 href=\"https://play.google.com/?hl=ja&tab=w8\">Play</a> <a class=gb1 href=\"http://www.youtube.com/results?gl=JP&tab=w1\">YouTube</a> <a class=gb1 href=\"http://news.google.co.jp/nwshp?hl=ja&tab=wn\">&#12491;&#12517;&#12540;&#12473;</a> <a class=gb1 href=\"https://mail.google.com/mail/?tab=wm\">Gmail</a> <a class=gb1 href=\"https://drive.google.com/?tab=wo\">&#12489;&#12521;&#12452;&#12502;</a> <a class=gb1 style=\"text-decoration:none\" href=\"https://www.google.co.jp/intl/ja/options/\"><u>&#12418;&#12387;&#12392;&#35211;&#12427;</u> &raquo;</a></nobr></div><div id=guser width=100%><nobr><span id=gbn class=gbi></span><span id=gbf class=gbf></span><span id=gbe></span><a href=\"http://www.google.co.jp/history/optout?hl=ja\" class=gb4>&#12454;&#12455;&#12502;&#23653;&#27508;</a> | <a  href=\"/preferences?hl=ja\" class=gb4>&#35373;&#23450;</a> | <a target=_top id=gb_70 href=\"https://accounts.google.com/ServiceLogin?hl=ja&passive=true&continue=http://www.google.com/search%3Fq%3Db%2520s%25204%2520%2520%2520p%2520y%2520t%2520h%2520o%2520n\" class=gb4>&#12525;&#12464;&#12452;&#12531;</a></nobr></div><div class=gbh style=left:0></div><div class=gbh style=right:0></div><table id=\"mn\" border=\"0\" cellpadding=\"0\" cellspacing=\"0\" style=\"position:relative\"><tr><th width=\"132\"></th><th width=\"573\"></th><th width=\"278\"></th><th></th></tr><tr><td class=\"sfbgg\" valign=\"top\"><div id=\"logocont\"><h1><a href=\"/webhp?hl=ja\" style=\"background-image:url(/images/nav_logo229.png);background-repeat:no-repeat;height:37px;width:95px;display:block;background-position:0 -41px\" id=\"logo\" title=\"Go to Google Home\"></a></h1></div></td><td class=\"sfbgg\" colspan=\"2\" valign=\"top\" style=\"padding-left:0px\"><form style=\"display:block;margin:0;background:none\" action=\"/search\" id=\"tsf\" method=\"GET\" name=\"gs\"><table border=\"0\" cellpadding=\"0\" cellspacing=\"0\" style=\"margin-top:20px;position:relative\"><tr><td><div class=\"lst-a\"><table cellpadding=\"0\" cellspacing=\"0\"><tr><td class=\"lst-td\" width=\"555\" valign=\"bottom\"><div style=\"position:relative;zoom:1\"><input class=\"lst\" value=\"b s 4   p y t h o n\" title=\"&#26908;&#32034;\" autocomplete=\"off\" id=\"sbhost\" maxlength=\"2048\" name=\"q\" type=\"text\"></div></td></tr></table></div></td><td><div class=\"ds\"><div class=\"lsbb\"><button class=\"lsb\" value=\"&#26908;&#32034;\" name=\"btnG\" type=\"submit\"><span class=\"sbico\" style=\"background-image:url(/images/nav_logo229.png);background-repeat:no-repeat;height:14px;width:13px;display:block;background-position:-36px -111px\"></span></button></div></div></td></tr></table></form></td><td class=\"sfbgg\">&nbsp;</td></tr><tr style=\"position:relative\"><td><div style=\"border-bottom:1px solid #ebebeb;height:59px\"></div></td><td colspan=\"2\"><div class=\"tn\"><div class=\"qrSWbe tnuiC sFTC8c pqkqJe\">&#12377;&#12409;&#12390;</div><div class=\"sFTC8c\"><a class=\"qrSWbe KDZjCd\" href=\"/search?q=b+s+4+++p+y+t+h+o+n&amp;ie=UTF-8&amp;prmd=ivns&amp;source=lnms&amp;tbm=isch&amp;sa=X&amp;ved=0ahUKEwjSjsvbgureAhUDVrwKHQwgBvUQ_AUIBQ\">&#30011;&#20687;</a></div><div class=\"sFTC8c\"><a class=\"qrSWbe KDZjCd\" href=\"/search?q=b+s+4+++p+y+t+h+o+n&amp;ie=UTF-8&amp;prmd=ivns&amp;source=lnms&amp;tbm=vid&amp;sa=X&amp;ved=0ahUKEwjSjsvbgureAhUDVrwKHQwgBvUQ_AUIBg\">&#21205;&#30011;</a></div><div class=\"sFTC8c\"><a class=\"qrSWbe KDZjCd\" href=\"/search?q=b+s+4+++p+y+t+h+o+n&amp;ie=UTF-8&amp;prmd=ivns&amp;source=lnms&amp;tbm=nws&amp;sa=X&amp;ved=0ahUKEwjSjsvbgureAhUDVrwKHQwgBvUQ_AUIBw\">&#12491;&#12517;&#12540;&#12473;</a></div><div class=\"sFTC8c\"><a class=\"qrSWbe KDZjCd\" href=\"/search?q=b+s+4+++p+y+t+h+o+n&amp;ie=UTF-8&amp;prmd=ivns&amp;source=lnms&amp;tbm=shop&amp;sa=X&amp;ved=0ahUKEwjSjsvbgureAhUDVrwKHQwgBvUQ_AUICA\">&#12471;&#12519;&#12483;&#12500;&#12531;&#12464;</a></div><div class=\"sFTC8c\"><a class=\"qrSWbe KDZjCd\" href=\"http://maps.google.com/maps?q=b+s+4+++p+y+t+h+o+n&amp;um=1&amp;ie=UTF-8&amp;sa=X&amp;ved=0ahUKEwjSjsvbgureAhUDVrwKHQwgBvUQ_AUICQ\">&#22320;&#22259;</a></div><div class=\"sFTC8c\"><a class=\"qrSWbe KDZjCd\" href=\"/search?q=b+s+4+++p+y+t+h+o+n&amp;ie=UTF-8&amp;prmd=ivns&amp;source=lnms&amp;tbm=bks&amp;sa=X&amp;ved=0ahUKEwjSjsvbgureAhUDVrwKHQwgBvUQ_AUICg\">&#26360;&#31821;</a></div></div><div style=\"border-bottom:1px solid #ebebeb;height:59px\"></div></td><td><div style=\"border-bottom:1px solid #ebebeb;height:59px\"></div></td></tr><tbody id=\"desktop-search\"><style>.pCA4Bd,.pCA4Bd a:link,.pCA4Bd a:visited,a.pCA4Bd:link,a.pCA4Bd:visited{color:#808080}.AzrInc{color:#61C}.ellip{overflow:hidden;text-overflow:ellipsis;white-space:nowrap}</style><tr><td id=\"leftnav\" valign=\"top\"><div><h2 class=\"hd\">Search Options</h2><ul class=\"med\" id=\"tbd\"><li><ul class=\"tbt\"><li class=\"tbos\" id=\"lr_\">&#12377;&#12409;&#12390;&#12398;&#35328;&#35486;</li><li class=\"tbou\" id=\"lr_lang_1ja\"><a class=\"q\" href=\"/search?q=b+s+4+++p+y+t+h+o+n&amp;ie=UTF-8&amp;prmd=ivns&amp;source=lnt&amp;tbs=lr:lang_1ja&amp;lr=lang_ja&amp;sa=X&amp;ved=0ahUKEwjSjsvbgureAhUDVrwKHQwgBvUQpwUIDw\">&#26085;&#26412;&#35486;&#12398;&#12506;&#12540;&#12472;&#12434;&#26908;&#32034;</a></li></ul></li><li><ul class=\"tbt\"><li class=\"tbos\" id=\"qdr_\">&#26399;&#38291;&#25351;&#23450;&#12394;&#12375;</li><li class=\"tbou\" id=\"qdr_h\"><a class=\"q\" href=\"/search?q=b+s+4+++p+y+t+h+o+n&amp;ie=UTF-8&amp;prmd=ivns&amp;source=lnt&amp;tbs=qdr:h&amp;sa=X&amp;ved=0ahUKEwjSjsvbgureAhUDVrwKHQwgBvUQpwUIDw\"> 1 &#26178;&#38291;&#20197;&#20869;</a></li><li class=\"tbou\" id=\"qdr_d\"><a class=\"q\" href=\"/search?q=b+s+4+++p+y+t+h+o+n&amp;ie=UTF-8&amp;prmd=ivns&amp;source=lnt&amp;tbs=qdr:d&amp;sa=X&amp;ved=0ahUKEwjSjsvbgureAhUDVrwKHQwgBvUQpwUIDw\"> 24 &#26178;&#38291;&#20197;&#20869;</a></li><li class=\"tbou\" id=\"qdr_w\"><a class=\"q\" href=\"/search?q=b+s+4+++p+y+t+h+o+n&amp;ie=UTF-8&amp;prmd=ivns&amp;source=lnt&amp;tbs=qdr:w&amp;sa=X&amp;ved=0ahUKEwjSjsvbgureAhUDVrwKHQwgBvUQpwUIDw\"> 1 &#36913;&#38291;&#20197;&#20869;</a></li><li class=\"tbou\" id=\"qdr_m\"><a class=\"q\" href=\"/search?q=b+s+4+++p+y+t+h+o+n&amp;ie=UTF-8&amp;prmd=ivns&amp;source=lnt&amp;tbs=qdr:m&amp;sa=X&amp;ved=0ahUKEwjSjsvbgureAhUDVrwKHQwgBvUQpwUIDw\"> 1 &#12363;&#26376;&#20197;&#20869;</a></li><li class=\"tbou\" id=\"qdr_y\"><a class=\"q\" href=\"/search?q=b+s+4+++p+y+t+h+o+n&amp;ie=UTF-8&amp;prmd=ivns&amp;source=lnt&amp;tbs=qdr:y&amp;sa=X&amp;ved=0ahUKEwjSjsvbgureAhUDVrwKHQwgBvUQpwUIDw\"> 1 &#24180;&#20197;&#20869;</a></li></ul></li><li><ul class=\"tbt\"><li class=\"tbos\" id=\"li_\">&#12377;&#12409;&#12390;&#12398;&#32080;&#26524;</li><li class=\"tbou\" id=\"li_1\"><a class=\"q\" href=\"/search?q=b+s+4+++p+y+t+h+o+n&amp;ie=UTF-8&amp;prmd=ivns&amp;source=lnt&amp;tbs=li:1&amp;sa=X&amp;ved=0ahUKEwjSjsvbgureAhUDVrwKHQwgBvUQpwUIDw\">&#23436;&#20840;&#19968;&#33268;</a></li></ul></li></ul></div></td><td valign=\"top\"><div id=\"center_col\"><div class=\"sd\" id=\"resultStats\">&#32004; 13,500,000 &#20214;</div><div id=\"res\"><div id=\"topstuff\"></div><div id=\"search\"><div id=\"ires\"><ol><div class=\"g\"><h3 class=\"r\"><a href=\"/url?q=https://qiita.com/itkr/items/513318a9b5b92bd56185&amp;sa=U&amp;ved=0ahUKEwjSjsvbgureAhUDVrwKHQwgBvUQFggUMAA&amp;usg=AOvVaw1vOg8lQizWmH7WH2xPHdx0\"><b>Python</b>&#12392;Beautiful Soup&#12391;&#12473;&#12463;&#12524;&#12452;&#12500;&#12531;&#12464; - Qiita</a></h3><div class=\"s\"><div class=\"hJND5c\" style=\"margin-bottom:2px\"><cite>https://qiita.com/itkr/items/513318a9b5b92bd56185</cite><div class=\"Pj9hGd\"><div style=\"display:inline\" onclick=\"google.sham(this);\" aria-expanded=\"false\" aria-haspopup=\"true\" tabindex=\"0\" data-ved=\"0ahUKEwjSjsvbgureAhUDVrwKHQwgBvUQ7B0IFTAA\"><span class=\"CiacGf\"></span></div><div style=\"display:none\" class=\"am-dropdown-menu\" role=\"menu\" tabindex=\"-1\"><ul><li class=\"mUpfKd\"><a class=\"imx0m\" href=\"/url?q=http://webcache.googleusercontent.com/search%3Fq%3Dcache:TqpYo4LerqoJ:https://qiita.com/itkr/items/513318a9b5b92bd56185%252Bb%2Bs%2B4%2B%2B%2Bp%2By%2Bt%2Bh%2Bo%2Bn%26hl%3Dja%26ct%3Dclnk&amp;sa=U&amp;ved=0ahUKEwjSjsvbgureAhUDVrwKHQwgBvUQIAgXMAA&amp;usg=AOvVaw2Xxd-C548VylpwIdI3Vuwc\">&#12461;&#12515;&#12483;&#12471;&#12517;</a></li></ul></div></div></div><span class=\"st\">2017&#24180;3&#26376;6&#26085; <b>...</b> &#12471;&#12531;&#12503;&#12523;&#12394;&#12479;&#12464;&#12398;&#21462;&#24471;&#26041;&#27861;. HTML&#12398;&#20013;&#12363;&#12425;A&#12479;&#12464;&#12434;&#12377;&#12409;&#12390;&#21462;&#24471;&#12377;&#12427;&#12395;&#12399;. soup.find_all(<br>\n",
      "&quot;a&quot;). &#12371;&#12428;&#12391;&#21462;&#24471;&#12391;&#12365;&#12427;&#12458;&#12502;&#12472;&#12455;&#12463;&#12488; &lt;class &#39;<b>bs4</b>.element.ResultSet&#39;&gt; &#12399;list&#12398;&#12424;&#12358;&#12395;<br>\n",
      "&#25201;&#12358;&#12371;&#12392;&#12364;&#12391;&#12365;&#12414;&#12377;&#12290; &#12377;&#12409;&#12390;&#12398;&#12479;&#12464;&#12391;&#12399;&#12394;&#12367;&#20808;&#38957;&#12398;&#19968;&#12388;&#12384;&#12369;&#21462;&#24471;&#12377;&#12427;&#12395;&nbsp;...</span><br></div></div><div class=\"g\"><h3 class=\"r\"><a href=\"/url?q=https://qiita.com/matsu0228/items/edf7dbba9b0b0246ef8f&amp;sa=U&amp;ved=0ahUKEwjSjsvbgureAhUDVrwKHQwgBvUQFggaMAE&amp;usg=AOvVaw2ykBYeTSZyxLlzc5M3kHeR\">python3&#12391;web&#12473;&#12463;&#12524;&#12452;&#12500;&#12531;&#12464;(Beautiful Soup) - Qiita</a></h3><div class=\"s\"><div class=\"hJND5c\" style=\"margin-bottom:2px\"><cite>https://qiita.com/matsu0228/items/edf7dbba9b0b0246ef8f</cite><div class=\"Pj9hGd\"><div style=\"display:inline\" onclick=\"google.sham(this);\" aria-expanded=\"false\" aria-haspopup=\"true\" tabindex=\"0\" data-ved=\"0ahUKEwjSjsvbgureAhUDVrwKHQwgBvUQ7B0IGzAB\"><span class=\"CiacGf\"></span></div><div style=\"display:none\" class=\"am-dropdown-menu\" role=\"menu\" tabindex=\"-1\"><ul><li class=\"mUpfKd\"><a class=\"imx0m\" href=\"/url?q=http://webcache.googleusercontent.com/search%3Fq%3Dcache:H2ekiPXlRdEJ:https://qiita.com/matsu0228/items/edf7dbba9b0b0246ef8f%252Bb%2Bs%2B4%2B%2B%2Bp%2By%2Bt%2Bh%2Bo%2Bn%26hl%3Dja%26ct%3Dclnk&amp;sa=U&amp;ved=0ahUKEwjSjsvbgureAhUDVrwKHQwgBvUQIAgdMAE&amp;usg=AOvVaw2PusxQh59XlcAkpGPYgi8c\">&#12461;&#12515;&#12483;&#12471;&#12517;</a></li></ul></div></div></div><span class=\"st\">2017&#24180;12&#26376;18&#26085; <b>...</b> &#29872;&#22659;. $ cat /etc/redhat-release CentOS Linux release 7.4.1708 (Core) $ python3 -<br>\n",
      "V <b>Python</b> 3.5.<b>4</b> $ pip -V pip 9.0.1 ... soup = <b>BeautifulSoup</b>(r.text &quot;html.parser&quot;) or <br>\n",
      "soup = <b>BeautifulSoup</b>(r.text, &#39;lxml&#39;) #&#35201;&#32032;&#12434;&#25277;&#20986;. lxml&#12399;&#36895;&#24230;&#12364;&nbsp;...</span><br></div></div><div class=\"g\"><h3 class=\"r\"><a href=\"/url?q=https://www.crummy.com/software/BeautifulSoup/doc&amp;sa=U&amp;ved=0ahUKEwjSjsvbgureAhUDVrwKHQwgBvUQFgggMAI&amp;usg=AOvVaw1DSvOhFJrebCOhZbpMkJBM\">Beautiful Soup Documentation &#8212; Beautiful Soup 4.4.0 documentation</a></h3><div class=\"s\"><div class=\"hJND5c\" style=\"margin-bottom:2px\"><cite>https://www.crummy.com/software/<b>BeautifulSoup</b>/doc</cite><div class=\"Pj9hGd\"><div style=\"display:inline\" onclick=\"google.sham(this);\" aria-expanded=\"false\" aria-haspopup=\"true\" tabindex=\"0\" data-ved=\"0ahUKEwjSjsvbgureAhUDVrwKHQwgBvUQ7B0IITAC\"><span class=\"CiacGf\"></span></div><div style=\"display:none\" class=\"am-dropdown-menu\" role=\"menu\" tabindex=\"-1\"><ul><li class=\"mUpfKd\"><a class=\"imx0m\" href=\"/url?q=http://webcache.googleusercontent.com/search%3Fq%3Dcache:yjI8rL2klt4J:https://www.crummy.com/software/BeautifulSoup/doc%252Bb%2Bs%2B4%2B%2B%2Bp%2By%2Bt%2Bh%2Bo%2Bn%26hl%3Dja%26ct%3Dclnk&amp;sa=U&amp;ved=0ahUKEwjSjsvbgureAhUDVrwKHQwgBvUQIAgjMAI&amp;usg=AOvVaw18xax-NaxkksA4ku0ptmVq\">&#12461;&#12515;&#12483;&#12471;&#12517;</a></li></ul></div></div></div><span class=\"st\">If you&#39;re using a recent version of Debian or Ubuntu Linux, you can install <br>\n",
      "Beautiful Soup with the system package manager: $ apt-get install <b>python</b>-<b>bs4</b> (<br>\n",
      "<b>for Python</b> 2). $ apt-get install python3-<b>bs4</b> (<b>for Python</b> 3). Beautiful Soup <b>4</b> is <br>\n",
      "published&nbsp;...</span><br></div></div><div class=\"g\"><h3 class=\"r\"><a href=\"/url?q=http://python.zombie-hunting-club.com/entry/2017/11/08/192731&amp;sa=U&amp;ved=0ahUKEwjSjsvbgureAhUDVrwKHQwgBvUQFgglMAM&amp;usg=AOvVaw2uj5U1Vvqy_IC2rYDZBzik\">[<b>Python</b>] <b>BeautifulSoup</b> &#12391; Web&#12473;&#12463;&#12524;&#12452;&#12500;&#12531;&#12464;&#12434;&#12375;&#12390;&#12415;&#12427; - &#12478;&#12531;&#12499;&#12391;&#12418; ...</a></h3><div class=\"s\"><div class=\"hJND5c\" style=\"margin-bottom:2px\"><cite><b>python</b>.zombie-hunting-club.com/entry/2017/11/08/192731</cite><div class=\"Pj9hGd\"><div style=\"display:inline\" onclick=\"google.sham(this);\" aria-expanded=\"false\" aria-haspopup=\"true\" tabindex=\"0\" data-ved=\"0ahUKEwjSjsvbgureAhUDVrwKHQwgBvUQ7B0IJjAD\"><span class=\"CiacGf\"></span></div><div style=\"display:none\" class=\"am-dropdown-menu\" role=\"menu\" tabindex=\"-1\"><ul><li class=\"mUpfKd\"><a class=\"imx0m\" href=\"/url?q=http://webcache.googleusercontent.com/search%3Fq%3Dcache:CLErW1diJm4J:http://python.zombie-hunting-club.com/entry/2017/11/08/192731%252Bb%2Bs%2B4%2B%2B%2Bp%2By%2Bt%2Bh%2Bo%2Bn%26hl%3Dja%26ct%3Dclnk&amp;sa=U&amp;ved=0ahUKEwjSjsvbgureAhUDVrwKHQwgBvUQIAgoMAM&amp;usg=AOvVaw1oYkVJRAmuQiQNf73BWTDr\">&#12461;&#12515;&#12483;&#12471;&#12517;</a></li></ul></div></div></div><span class=\"st\">2017&#24180;11&#26376;8&#26085; <b>...</b> &#12399;&#12376;&#12417;&#12395;. <b>BeautifulSoup</b> &#12399;&#12289;HTML &#12420; XML &#12398;&#12497;&#12540;&#12469;&#12391;&#12354;&#12426;&#12289;Web&#12473;&#12463;&#12524;&#12452;&#12500;&#12531;&#12464;&#12391;<br>\n",
      "&#20351;&#29992;&#12377;&#12427;&#12371;&#12392;&#12364;&#12391;&#12365;&#12427;&#12290; &#12414;&#12383;&#12289;&#21516;&#12376;&#12424;&#12358;&#12395;&#12473;&#12463;&#12524;&#12452;&#12500;&#12531;&#12464;&#12434;&#12377;&#12427;&#20182;&#12398;&#12521;&#12452;&#12502;&#12521;&#12522;&#12395;&#12399;&#12289;<br>\n",
      "PyQuery&#12364;&#12354;&#12427;&#12364;&#12289;&#12381;&#12385;&#12425;&#12399;&#20197;&#19979;&#12398;&#35352;&#20107;&#12434;&#21442;&#29031;&#12375;&#12383;&#12356;&#12290; [<b>Python</b>] PyQuery&nbsp;...</span><br></div></div><div class=\"g\"><h3 class=\"r\"><a href=\"/url?q=https://orangain.hatenablog.com/entry/encoding-in-requests-and-beautiful-soup&amp;sa=U&amp;ved=0ahUKEwjSjsvbgureAhUDVrwKHQwgBvUQFggrMAQ&amp;usg=AOvVaw0_ukLBof2sxmOLXy3H9qMJ\">Requests&#12392;Beautiful Soup&#12391;&#12398;&#12473;&#12463;&#12524;&#12452;&#12500;&#12531;&#12464;&#26178;&#12395;&#25991;&#23383;&#21270;&#12369;&#12434;&#28187;&#12425;&#12377; ...</a></h3><div class=\"s\"><div class=\"hJND5c\" style=\"margin-bottom:2px\"><cite>https://orangain.hatenablog.com/.../encoding-in-requests-and-beautiful-soup</cite><div class=\"Pj9hGd\"><div style=\"display:inline\" onclick=\"google.sham(this);\" aria-expanded=\"false\" aria-haspopup=\"true\" tabindex=\"0\" data-ved=\"0ahUKEwjSjsvbgureAhUDVrwKHQwgBvUQ7B0ILDAE\"><span class=\"CiacGf\"></span></div><div style=\"display:none\" class=\"am-dropdown-menu\" role=\"menu\" tabindex=\"-1\"><ul><li class=\"mUpfKd\"><a class=\"imx0m\" href=\"/url?q=http://webcache.googleusercontent.com/search%3Fq%3Dcache:BfKR1uC_MXcJ:https://orangain.hatenablog.com/entry/encoding-in-requests-and-beautiful-soup%252Bb%2Bs%2B4%2B%2B%2Bp%2By%2Bt%2Bh%2Bo%2Bn%26hl%3Dja%26ct%3Dclnk&amp;sa=U&amp;ved=0ahUKEwjSjsvbgureAhUDVrwKHQwgBvUQIAguMAQ&amp;usg=AOvVaw3kb1sheDMqtwAzPvmTv5iM\">&#12461;&#12515;&#12483;&#12471;&#12517;</a></li></ul></div></div></div><span class=\"st\">2017&#24180;1&#26376;9&#26085; <b>...</b> import requests from <b>bs4</b> import <b>BeautifulSoup</b> r = requests.get(url) soup = <br>\n",
      "<b>BeautifulSoup</b>(r.content, &#39;html.parser&#39;) ... <b>Python</b>&#12463;&#12525;&#12540;&#12522;&#12531;&#12464;&amp;&#12473;&#12463;&#12524;&#12452;&#12500;&#12531;&#12464;&#12391;&#12399;<br>\n",
      "&#12521;&#12452;&#12502;&#12521;&#12522;&#12434;&#20491;&#21029;&#12395;&#32057;&#20171;&#12375;&#12390;&#12356;&#12390;&#12289;&#32068;&#12415;&#21512;&#12431;&#12379;&#12383;&#12392;&#12365;&#12398;&#35441;&#12399;&#12354;&#12414;&#12426;&#35443;&#12375;&#12367;&#26360;&#12356;&nbsp;...</span><br></div></div><div class=\"g\"><h3 class=\"r\"><a href=\"/url?q=https://maku77.github.io/python/parse-html-by-beautiful-soup.html&amp;sa=U&amp;ved=0ahUKEwjSjsvbgureAhUDVrwKHQwgBvUQFggxMAU&amp;usg=AOvVaw0ggm3uYEa2MiwNRx2ser26\"><b>Python</b> &#12391; HTML &#12434;&#12497;&#12540;&#12473;&#12377;&#12427; (Beautiful Soup) | &#12414;&#12367;&#12414;&#12367; <b>Python</b> &#12494;&#12540;&#12488;</a></h3><div class=\"s\"><div class=\"hJND5c\" style=\"margin-bottom:2px\"><cite>https://maku77.github.io/<b>python</b>/parse-html-by-beautiful-soup.html</cite><div class=\"Pj9hGd\"><div style=\"display:inline\" onclick=\"google.sham(this);\" aria-expanded=\"false\" aria-haspopup=\"true\" tabindex=\"0\" data-ved=\"0ahUKEwjSjsvbgureAhUDVrwKHQwgBvUQ7B0IMjAF\"><span class=\"CiacGf\"></span></div><div style=\"display:none\" class=\"am-dropdown-menu\" role=\"menu\" tabindex=\"-1\"><ul><li class=\"mUpfKd\"><a class=\"imx0m\" href=\"/url?q=http://webcache.googleusercontent.com/search%3Fq%3Dcache:Zz9wC4nGjNoJ:https://maku77.github.io/python/parse-html-by-beautiful-soup.html%252Bb%2Bs%2B4%2B%2B%2Bp%2By%2Bt%2Bh%2Bo%2Bn%26hl%3Dja%26ct%3Dclnk&amp;sa=U&amp;ved=0ahUKEwjSjsvbgureAhUDVrwKHQwgBvUQIAg0MAU&amp;usg=AOvVaw0A3ko_lu9EoSucMjqvYV9Q\">&#12461;&#12515;&#12483;&#12471;&#12517;</a></li></ul></div></div></div><span class=\"st\">2015&#24180;5&#26376;17&#26085; <b>...</b> Beautiful Soup &#12392;&#12399;. <b>Python</b> &#27161;&#28310;&#12398; html.parser &#12514;&#12472;&#12517;&#12540;&#12523;&#12399;&#12289;SAX &#24418;&#24335;&#12398;&#12452;&#12505;&#12531;&#12488;<br>\n",
      "&#12489;&#12522;&#12502;&#12531;&#12394;&#12497;&#12540;&#12469;&#12394;&#12383;&#12417;&#12289;&#33509;&#24178;&#25201;&#12356;&#12395;&#12367;&#12356;&#12392;&#12371;&#12429;&#12364;&#12354;&#12426;&#12414;&#12377;&#12290; ... <b>bs4</b>.<b>BeautifulSoup</b> <br>\n",
      "&#12458;&#12502;&#12472;&#12455;&#12463;&#12488;&#12434;&#20316;&#25104;&#12375;&#12383;&#12425;&#12289;&#21508;&#35201;&#32032;&#12398;&#26908;&#32034;&#12434;&#34892;&#12360;&#12427;&#12424;&#12358;&#12395;&#12394;&#12426;&#12414;&#12377;&#12290; <b>bs4</b>.</span><br></div></div><div class=\"g\"><h3 class=\"r\"><a href=\"/url?q=http://kondou.com/BS4/&amp;sa=U&amp;ved=0ahUKEwjSjsvbgureAhUDVrwKHQwgBvUQFgg3MAY&amp;usg=AOvVaw1xFBBTkl_9MDoOoOmA0Xno\">kondou.com - Beautiful Soup 4.2.0 Doc. &#26085;&#26412;&#35486;&#35379; (2013-11-19&#26368;&#32066; ...</a></h3><div class=\"s\"><div class=\"hJND5c\" style=\"margin-bottom:2px\"><cite>kondou.com/<b>BS4</b>/</cite><div class=\"Pj9hGd\"><div style=\"display:inline\" onclick=\"google.sham(this);\" aria-expanded=\"false\" aria-haspopup=\"true\" tabindex=\"0\" data-ved=\"0ahUKEwjSjsvbgureAhUDVrwKHQwgBvUQ7B0IODAG\"><span class=\"CiacGf\"></span></div><div style=\"display:none\" class=\"am-dropdown-menu\" role=\"menu\" tabindex=\"-1\"><ul><li class=\"mUpfKd\"><a class=\"imx0m\" href=\"/url?q=http://webcache.googleusercontent.com/search%3Fq%3Dcache:0WBc1yq7afEJ:http://kondou.com/BS4/%252Bb%2Bs%2B4%2B%2B%2Bp%2By%2Bt%2Bh%2Bo%2Bn%26hl%3Dja%26ct%3Dclnk&amp;sa=U&amp;ved=0ahUKEwjSjsvbgureAhUDVrwKHQwgBvUQIAg6MAY&amp;usg=AOvVaw3dL9VctcEnc6FfSA3e3V9g\">&#12461;&#12515;&#12483;&#12471;&#12517;</a></li></ul></div></div></div><span class=\"st\">Beautiful Soup &#12399;HTML&#12420;XML&#12501;&#12449;&#12452;&#12523;&#12363;&#12425;&#12487;&#12540;&#12479;&#12434;&#21462;&#24471;&#12377;&#12427;<b>Python</b>&#12398;&#12521;&#12452;&#12502;&#12521;&#12522;&#12391;&#12377;<br>\n",
      "&#12290;&#12354;&#12394;&#12383;&#12398;&#22909;&#12365;&#12394; ... 2013&#24180;10&#26376;&#29694;&#22312;&#12289;Beautiful Soup&#12395;&#12388;&#12356;&#12390;&#12398;&#26085;&#26412;&#35486;Web&#12506;&#12540;&#12472;<br>\n",
      "&#12399;&#12289;Beautiful Soup 3&#12392;Beautiful Soup <b>4</b>&#65288;&#20197;&#19979;&#12289;BS3,<b>BS4</b>)&#12398;&#24773;&#22577;&#12364;&#28151;&#22312;&#12375;&#12390;&#12356;&#12414;&#12377;&#12290;</span><br></div></div><div class=\"g\"><h3 class=\"r\"><a href=\"/url?q=https://pycamp.pycon.jp/textbook/7_scraping.html&amp;sa=U&amp;ved=0ahUKEwjSjsvbgureAhUDVrwKHQwgBvUQFgg8MAc&amp;usg=AOvVaw2Xc7wtMCtFuzzryuWuKRlx\">7. &#12473;&#12463;&#12524;&#12452;&#12500;&#12531;&#12464; &#8212; <b>Python</b> Boot Camp Text 2016.04.28 &#12489;&#12461;&#12517;&#12513;&#12531;&#12488;</a></h3><div class=\"s\"><div class=\"hJND5c\" style=\"margin-bottom:2px\"><cite>https://pycamp.pycon.jp/textbook/7_scraping.html</cite><div class=\"Pj9hGd\"><div style=\"display:inline\" onclick=\"google.sham(this);\" aria-expanded=\"false\" aria-haspopup=\"true\" tabindex=\"0\" data-ved=\"0ahUKEwjSjsvbgureAhUDVrwKHQwgBvUQ7B0IPTAH\"><span class=\"CiacGf\"></span></div><div style=\"display:none\" class=\"am-dropdown-menu\" role=\"menu\" tabindex=\"-1\"><ul><li class=\"mUpfKd\"><a class=\"imx0m\" href=\"/url?q=http://webcache.googleusercontent.com/search%3Fq%3Dcache:a6tKm3mCHN0J:https://pycamp.pycon.jp/textbook/7_scraping.html%252Bb%2Bs%2B4%2B%2B%2Bp%2By%2Bt%2Bh%2Bo%2Bn%26hl%3Dja%26ct%3Dclnk&amp;sa=U&amp;ved=0ahUKEwjSjsvbgureAhUDVrwKHQwgBvUQIAg_MAc&amp;usg=AOvVaw3Dn72QhhLJ_bXQ2uaYzaI5\">&#12461;&#12515;&#12483;&#12471;&#12517;</a></li></ul></div></div></div><span class=\"st\">Beautiful Soup <b>4</b>&#12399;HTML&#12420;XML&#12398;&#20013;&#36523;&#12434;&#35299;&#26512;&#12375;&#12390;&#12289;&#20219;&#24847;&#12398;&#24773;&#22577;&#12434;&#21462;&#24471;&#12377;&#12427;&#12383;&#12417;&#12398;<br>\n",
      "&#12521;&#12452;&#12502;&#12521;&#12522;&#12391;&#12377;&#12290; <b>Python</b>&#12398;&#27161;&#28310;&#12521;&#12452;&#12502;&#12521;&#12522; html.parser &#12391;&#12418;&#21516;&#27096;&#12398;&#12371;&#12392;&#12399;&#34892;&#12394;&#12360;&#12414;&#12377;&#12364;&#12289;<br>\n",
      "&#12424;&#12426;&#20415;&#21033;&#12394; Beautiful Soup <b>4</b> &#12434;&#12371;&#12371;&#12391;&#12399;&#20351;&#29992;&#12375;&#12414;&#12377;&#12290; &#12394;&#12362;&#12289;<b>beautifulsoup</b>&nbsp;...</span><br></div></div><div class=\"g\"><h3 class=\"r\"><a href=\"/url?q=https://python.civic-apps.com/beautifulsoup4-selector/&amp;sa=U&amp;ved=0ahUKEwjSjsvbgureAhUDVrwKHQwgBvUQFghBMAg&amp;usg=AOvVaw1H7Iakg9qPScXR54A_8TTU\">BeautifulSoup4&#12398;&#12481;&#12540;&#12488;&#12471;&#12540;&#12488;(&#12475;&#12524;&#12463;&#12479;&#12540;&#12394;&#12393;&#65289; | <b>Python</b> Snippets</a></h3><div class=\"s\"><div class=\"hJND5c\" style=\"margin-bottom:2px\"><cite>https://<b>python</b>.civic-apps.com/<b>beautifulsoup4</b>-selector/</cite><div class=\"Pj9hGd\"><div style=\"display:inline\" onclick=\"google.sham(this);\" aria-expanded=\"false\" aria-haspopup=\"true\" tabindex=\"0\" data-ved=\"0ahUKEwjSjsvbgureAhUDVrwKHQwgBvUQ7B0IQjAI\"><span class=\"CiacGf\"></span></div><div style=\"display:none\" class=\"am-dropdown-menu\" role=\"menu\" tabindex=\"-1\"><ul><li class=\"mUpfKd\"><a class=\"imx0m\" href=\"/url?q=http://webcache.googleusercontent.com/search%3Fq%3Dcache:WzyA9W7qbl8J:https://python.civic-apps.com/beautifulsoup4-selector/%252Bb%2Bs%2B4%2B%2B%2Bp%2By%2Bt%2Bh%2Bo%2Bn%26hl%3Dja%26ct%3Dclnk&amp;sa=U&amp;ved=0ahUKEwjSjsvbgureAhUDVrwKHQwgBvUQIAhEMAg&amp;usg=AOvVaw31oqGl0CxvoNZ2_RZOEP7a\">&#12461;&#12515;&#12483;&#12471;&#12517;</a></li></ul></div></div></div><span class=\"st\">2017&#24180;12&#26376;22&#26085; <b>...</b> html.parser &#12399;<b>Python</b>&#27161;&#28310;&#12521;&#12452;&#12502;&#12521;&#12522;&#12394;&#12398;&#12391;&#12452;&#12531;&#12473;&#12488;&#12540;&#12523;&#19981;&#35201;&#12391;&#12377;&#12368;&#20351;&#12360;&#12427;&#12364;&#12289;&#36895;&#24230;&#12399;<br>\n",
      "&#36933;&#12356;&#12290; lxml &#12399;&#39640;&#36895;&#12384;&#12364;&#21029;&#36884;&#12452;&#12531;&#12473;&#12488;&#12540;&#12523;&#12398;&#24517;&#35201;&#12394;C&#20381;&#23384;&#12521;&#12452;&#12502;&#12521;&#12522;&#12290;&#23455;&#34892;&#29872;&#22659;&#12395;&#20381;&#23384;<br>\n",
      "&#12377;&#12427;&#12290; from <b>bs4</b> import <b>BeautifulSoup</b> # HTML&#25991;&#23383;&#21015;&#12467;&#12531;&#12486;&#12531;&#12484;&#24341;&#25968;&nbsp;...</span><br></div></div><div class=\"g\"><h3 class=\"r\"><a href=\"/url?q=https://pypi.org/project/bs4/&amp;sa=U&amp;ved=0ahUKEwjSjsvbgureAhUDVrwKHQwgBvUQFghHMAk&amp;usg=AOvVaw0Zi4rGwDgBFj6qMTPeBAYP\"><b>bs4</b> · PyPI</a></h3><div class=\"s\"><div class=\"hJND5c\" style=\"margin-bottom:2px\"><cite>https://pypi.org/project/<b>bs4</b>/</cite><div class=\"Pj9hGd\"><div style=\"display:inline\" onclick=\"google.sham(this);\" aria-expanded=\"false\" aria-haspopup=\"true\" tabindex=\"0\" data-ved=\"0ahUKEwjSjsvbgureAhUDVrwKHQwgBvUQ7B0ISDAJ\"><span class=\"CiacGf\"></span></div><div style=\"display:none\" class=\"am-dropdown-menu\" role=\"menu\" tabindex=\"-1\"><ul><li class=\"mUpfKd\"><a class=\"imx0m\" href=\"/url?q=http://webcache.googleusercontent.com/search%3Fq%3Dcache:RmMEmExFLlUJ:https://pypi.org/project/bs4/%252Bb%2Bs%2B4%2B%2B%2Bp%2By%2Bt%2Bh%2Bo%2Bn%26hl%3Dja%26ct%3Dclnk&amp;sa=U&amp;ved=0ahUKEwjSjsvbgureAhUDVrwKHQwgBvUQIAhKMAk&amp;usg=AOvVaw0fj1Gj6ASabGZqnzPihx4T\">&#12461;&#12515;&#12483;&#12471;&#12517;</a></li></ul></div></div></div><span class=\"st\">3 Mar 2016 <b>...</b> This is a dummy package managed by the developer of Beautiful Soup to prevent <br>\n",
      "name squatting. The official name of PyPI&#39;s Beautiful Soup <b>Python</b> package is <br>\n",
      "beautifulsoup4. This package ensures that if you type pip install&nbsp;...</span><br></div></div></ol></div></div></div><div style=\"clear:both;margin-bottom:17px;overflow:hidden\"><div style=\"font-size:16px;padding:0 8px 1px\">&#12300;<b>b s 4   p y t h o n</b>&#12301;&#12395;&#38306;&#36899;&#12377;&#12427;&#12461;&#12540;&#12527;&#12540;&#12489;</div><table border=\"0\" cellpadding=\"0\" cellspacing=\"0\"><tr><td valign=\"top\"><p class=\"aw5cc\" style=\"margin:3px 8px\"><a href=\"/search?ie=UTF-8&amp;q=python+beautifulsoup+%E4%BD%BF%E3%81%84%E6%96%B9&amp;sa=X&amp;ved=0ahUKEwjSjsvbgureAhUDVrwKHQwgBvUQ1QIITigA\">python beautifulsoup &#20351;&#12356;&#26041;</a></p></td><td valign=\"top\" style=\"padding-left:10px\"><p class=\"aw5cc\" style=\"margin:3px 8px\"><a href=\"/search?ie=UTF-8&amp;q=beautifulsoup+lxml&amp;sa=X&amp;ved=0ahUKEwjSjsvbgureAhUDVrwKHQwgBvUQ1QIITygB\">beautifulsoup lxml</a></p></td></tr><tr><td valign=\"top\"><p class=\"aw5cc\" style=\"margin:3px 8px\"><a href=\"/search?ie=UTF-8&amp;q=beautifulsoup+%E3%82%BF%E3%82%B0%E3%81%AE%E4%B8%AD%E8%BA%AB&amp;sa=X&amp;ved=0ahUKEwjSjsvbgureAhUDVrwKHQwgBvUQ1QIIUCgC\">beautifulsoup &#12479;&#12464;&#12398;&#20013;&#36523;</a></p></td><td valign=\"top\" style=\"padding-left:10px\"><p class=\"aw5cc\" style=\"margin:3px 8px\"><a href=\"/search?ie=UTF-8&amp;q=beautifulsoup+%E5%AD%90%E8%A6%81%E7%B4%A0&amp;sa=X&amp;ved=0ahUKEwjSjsvbgureAhUDVrwKHQwgBvUQ1QIIUSgD\">beautifulsoup &#23376;&#35201;&#32032;</a></p></td></tr><tr><td valign=\"top\"><p class=\"aw5cc\" style=\"margin:3px 8px\"><a href=\"/search?ie=UTF-8&amp;q=beautifulsoup+select&amp;sa=X&amp;ved=0ahUKEwjSjsvbgureAhUDVrwKHQwgBvUQ1QIIUigE\">beautifulsoup select</a></p></td><td valign=\"top\" style=\"padding-left:10px\"><p class=\"aw5cc\" style=\"margin:3px 8px\"><a href=\"/search?ie=UTF-8&amp;q=beautifulsoup+id&amp;sa=X&amp;ved=0ahUKEwjSjsvbgureAhUDVrwKHQwgBvUQ1QIIUygF\">beautifulsoup id</a></p></td></tr><tr><td valign=\"top\"><p class=\"aw5cc\" style=\"margin:3px 8px\"><a href=\"/search?ie=UTF-8&amp;q=beautifulsoup+%E3%82%A4%E3%83%B3%E3%82%B9%E3%83%88%E3%83%BC%E3%83%AB&amp;sa=X&amp;ved=0ahUKEwjSjsvbgureAhUDVrwKHQwgBvUQ1QIIVCgG\">beautifulsoup &#12452;&#12531;&#12473;&#12488;&#12540;&#12523;</a></p></td><td valign=\"top\" style=\"padding-left:10px\"><p class=\"aw5cc\" style=\"margin:3px 8px\"><a href=\"/search?ie=UTF-8&amp;q=beautifulsoup+xpath&amp;sa=X&amp;ved=0ahUKEwjSjsvbgureAhUDVrwKHQwgBvUQ1QIIVSgH\">beautifulsoup xpath</a></p></td></tr><tr><td valign=\"top\"><p class=\"aw5cc\" style=\"margin:3px 8px\"><a href=\"/search?ie=UTF-8&amp;q=beautifulsoup+%E3%83%86%E3%82%AD%E3%82%B9%E3%83%88%E6%8A%BD%E5%87%BA&amp;sa=X&amp;ved=0ahUKEwjSjsvbgureAhUDVrwKHQwgBvUQ1QIIVigI\">beautifulsoup &#12486;&#12461;&#12473;&#12488;&#25277;&#20986;</a></p></td><td valign=\"top\" style=\"padding-left:10px\"><p class=\"aw5cc\" style=\"margin:3px 8px\"><a href=\"/search?ie=UTF-8&amp;q=beautifulsoup+get_text&amp;sa=X&amp;ved=0ahUKEwjSjsvbgureAhUDVrwKHQwgBvUQ1QIIVygJ\">beautifulsoup get_text</a></p></td></tr></table></div></div><div id=\"foot\"><table align=\"center\" border=\"0\" cellpadding=\"0\" cellspacing=\"0\" id=\"nav\"><tr valign=\"top\"><td align=\"left\" class=\"b\"><span class=\"csb\" style=\"background-position:-24px 0;width:28px\"></span><b></b></td><td><span class=\"csb\" style=\"background-position:-53px 0;width:20px\"></span><b>1</b></td><td><a class=\"fl\" href=\"/search?q=b+s+4+++p+y+t+h+o+n&amp;ie=UTF-8&amp;prmd=ivns&amp;ei=JLD3W9LsBYOs8QWMwJioDw&amp;start=10&amp;sa=N\"><span class=\"csb\" style=\"background-position:-74px 0;width:20px\"></span>2</a></td><td><a class=\"fl\" href=\"/search?q=b+s+4+++p+y+t+h+o+n&amp;ie=UTF-8&amp;prmd=ivns&amp;ei=JLD3W9LsBYOs8QWMwJioDw&amp;start=20&amp;sa=N\"><span class=\"csb\" style=\"background-position:-74px 0;width:20px\"></span>3</a></td><td><a class=\"fl\" href=\"/search?q=b+s+4+++p+y+t+h+o+n&amp;ie=UTF-8&amp;prmd=ivns&amp;ei=JLD3W9LsBYOs8QWMwJioDw&amp;start=30&amp;sa=N\"><span class=\"csb\" style=\"background-position:-74px 0;width:20px\"></span>4</a></td><td><a class=\"fl\" href=\"/search?q=b+s+4+++p+y+t+h+o+n&amp;ie=UTF-8&amp;prmd=ivns&amp;ei=JLD3W9LsBYOs8QWMwJioDw&amp;start=40&amp;sa=N\"><span class=\"csb\" style=\"background-position:-74px 0;width:20px\"></span>5</a></td><td><a class=\"fl\" href=\"/search?q=b+s+4+++p+y+t+h+o+n&amp;ie=UTF-8&amp;prmd=ivns&amp;ei=JLD3W9LsBYOs8QWMwJioDw&amp;start=50&amp;sa=N\"><span class=\"csb\" style=\"background-position:-74px 0;width:20px\"></span>6</a></td><td><a class=\"fl\" href=\"/search?q=b+s+4+++p+y+t+h+o+n&amp;ie=UTF-8&amp;prmd=ivns&amp;ei=JLD3W9LsBYOs8QWMwJioDw&amp;start=60&amp;sa=N\"><span class=\"csb\" style=\"background-position:-74px 0;width:20px\"></span>7</a></td><td><a class=\"fl\" href=\"/search?q=b+s+4+++p+y+t+h+o+n&amp;ie=UTF-8&amp;prmd=ivns&amp;ei=JLD3W9LsBYOs8QWMwJioDw&amp;start=70&amp;sa=N\"><span class=\"csb\" style=\"background-position:-74px 0;width:20px\"></span>8</a></td><td><a class=\"fl\" href=\"/search?q=b+s+4+++p+y+t+h+o+n&amp;ie=UTF-8&amp;prmd=ivns&amp;ei=JLD3W9LsBYOs8QWMwJioDw&amp;start=80&amp;sa=N\"><span class=\"csb\" style=\"background-position:-74px 0;width:20px\"></span>9</a></td><td><a class=\"fl\" href=\"/search?q=b+s+4+++p+y+t+h+o+n&amp;ie=UTF-8&amp;prmd=ivns&amp;ei=JLD3W9LsBYOs8QWMwJioDw&amp;start=90&amp;sa=N\"><span class=\"csb\" style=\"background-position:-74px 0;width:20px\"></span>10</a></td><td class=\"b\" style=\"text-align:left\"><a class=\"fl\" href=\"/search?q=b+s+4+++p+y+t+h+o+n&amp;ie=UTF-8&amp;prmd=ivns&amp;ei=JLD3W9LsBYOs8QWMwJioDw&amp;start=10&amp;sa=N\" style=\"text-align:left\"><span class=\"csb\" style=\"background-position:-96px 0;width:71px\"></span><span style=\"display:block;margin-left:53px\">&#27425;&#12408;</span></a></td></tr></table><p class=\"A8ul6\" id=\"bfl\" style=\"margin:19px 0 0;text-align:center\"><a href=\"/advanced_search?q=b+s+4+++p+y+t+h+o+n&amp;ie=UTF-8&amp;prmd=ivns\">&#26908;&#32034;&#12458;&#12503;&#12471;&#12519;&#12531;</a><a href=\"/support/websearch/bin/answer.py?answer=134479&amp;hl=ja\">&#12504;&#12523;&#12503;&#12434;&#26908;&#32034;</a> <a href=\"/tools/feedback/survey/html?productId=196&amp;query=b+s+4+++p+y+t+h+o+n&amp;hl=ja\">&#12501;&#12451;&#12540;&#12489;&#12496;&#12483;&#12463;&#12434;&#36865;&#20449;</a></p><div class=\"A8ul6\" id=\"fll\" style=\"margin:19px auto 19px auto;text-align:center\"><a href=\"/\">Google&nbsp;&#12507;&#12540;&#12512;</a> <a href=\"/intl/ja/ads\">&#24195;&#21578;&#25522;&#36617;</a> <a href=\"/intl/ja/policies/privacy/\">&#12503;&#12521;&#12452;&#12496;&#12471;&#12540;</a> <a href=\"/intl/ja/policies/terms/\">&#35215;&#32004;</a> <a href=\"/intl/ja/about.html\">Google&#12395;&#12388;&#12356;&#12390;</a></div></div></td><td id=\"rhs_block\" valign=\"top\"></td></tr></tbody></table><script type=\"text/javascript\" nonce=\"IJYneu8/y90+TSj1EWl05w==\">(function(){var eventid='JLD3W9LsBYOs8QWMwJioDw';google.kEI = eventid;})();</script><script src=\"/xjs/_/js/k=xjs.hp.en.5LrXty7tLds.O/m=sb_he,d/rt=j/d=1/rs=ACT90oEeIZruN-9yJ7vHD8z6F0OJHP69og\" nonce=\"IJYneu8/y90+TSj1EWl05w==\"></script><script type=\"text/javascript\" nonce=\"IJYneu8/y90+TSj1EWl05w==\">google.ac&&google.ac.c({\"agen\":false,\"cgen\":false,\"client\":\"heirloom-serp\",\"dh\":true,\"dhqt\":true,\"ds\":\"\",\"ffql\":\"ja\",\"fl\":true,\"host\":\"google.com\",\"isbh\":28,\"jsonp\":true,\"msgs\":{\"cibl\":\"&#26908;&#32034;&#12434;&#12463;&#12522;&#12450;\",\"dym\":\"&#12418;&#12375;&#12363;&#12375;&#12390;:\",\"lcky\":\"I\\u0026#39;m Feeling Lucky\",\"lml\":\"&#35443;&#32048;\",\"oskt\":\"&#20837;&#21147;&#12484;&#12540;&#12523;\",\"psrc\":\"&#12371;&#12398;&#26908;&#32034;&#12461;&#12540;&#12527;&#12540;&#12489;&#12399;\\u003Ca href=\\\"/history\\\"\\u003E&#12454;&#12455;&#12502;&#23653;&#27508;\\u003C/a\\u003E&#12363;&#12425;&#21066;&#38500;&#12373;&#12428;&#12414;&#12375;&#12383;\",\"psrl\":\"&#21066;&#38500;\",\"sbit\":\"&#30011;&#20687;&#12391;&#26908;&#32034;\",\"srch\":\"Google &#26908;&#32034;\"},\"ovr\":{},\"pq\":\"b s 4   p y t h o n\",\"refpd\":true,\"refspre\":true,\"rfs\":[\"python beautifulsoup &#20351;&#12356;&#26041;\",\"beautifulsoup &#12479;&#12464;&#12398;&#20013;&#36523;\",\"beautifulsoup select\",\"beautifulsoup &#12452;&#12531;&#12473;&#12488;&#12540;&#12523;\",\"beautifulsoup &#12486;&#12461;&#12473;&#12488;&#25277;&#20986;\",\"beautifulsoup lxml\",\"beautifulsoup &#23376;&#35201;&#32032;\",\"beautifulsoup id\",\"beautifulsoup xpath\",\"beautifulsoup get_text\"],\"sbpl\":24,\"sbpr\":24,\"scd\":10,\"sce\":5,\"stok\":\"y30K5SksER8CzUmRVHJvmhvvb7Q\",\"uhde\":false})</script><script nonce=\"IJYneu8/y90+TSj1EWl05w==\">(function(){window.google.cdo={height:0,width:0};(function(){var a=window.innerWidth,b=window.innerHeight;if(!a||!b){var c=window.document,d=\"CSS1Compat\"==c.compatMode?c.documentElement:c.body;a=d.clientWidth;b=d.clientHeight}a&&b&&(a!=google.cdo.width||b!=google.cdo.height)&&google.log(\"\",\"\",\"/client_204?&atyp=i&biw=\"+a+\"&bih=\"+b+\"&ei=\"+google.kEI);}).call(this);})();</script></body></html>\n"
     ]
    }
   ],
   "source": [
    "print(res.text)"
   ]
  },
  {
   "cell_type": "markdown",
   "metadata": {},
   "source": [
    "#### コマンドライン引数で検索語を入力する場合"
   ]
  },
  {
   "cell_type": "code",
   "execution_count": 17,
   "metadata": {
    "ExecuteTime": {
     "end_time": "2018-11-23T07:40:21.352960Z",
     "start_time": "2018-11-23T07:40:20.684589Z"
    }
   },
   "outputs": [
    {
     "name": "stdout",
     "output_type": "stream",
     "text": [
      "Googling...\n"
     ]
    }
   ],
   "source": [
    "#! python3\n",
    "# lucky.py - Google検索結果をいくつか開く\n",
    "import requests, sys, webbrowser, bs4\n",
    "print('Googling...') \n",
    "# Googleページをダウンロード中にテキストを表示 \n",
    "res = requests.get('http://google.com/search?q=' + ' '.join(sys. argv[1:]))\n",
    "res.raise_for_status()\n",
    "# TODO: 上位の検索結果のリンクを取得する\n",
    "soup = bs4.BeautifulSoup(res.text, \"lxml\") \n",
    "link_elems = soup.select('.r a')\n",
    "# TODO: 各結果をブラウザのタブで開く\n",
    "num_open = min(5, len(link_elems)) \n",
    "for i in range(num_open):\n",
    "    webbrowser.open('http://google.com' + link_elems[i].get('href'))"
   ]
  },
  {
   "cell_type": "code",
   "execution_count": null,
   "metadata": {
    "collapsed": true
   },
   "outputs": [],
   "source": [
    "デフォルトでは、検索結果の上位5件を、\n",
    "webbrowserモジュールを使って新し いタブに開きます。\n",
    "けれども、検索結果が 5 件に満たないこともありえます。\n",
    "soup. select() は、セレクタ '.r a' にマッチしたすべての要素のリスト返すので、\n",
    "このリ ストの長さか 5 件か少ないほうの数までタブを開きます。\n",
    "Python 組み込み関数 min() は、渡された整数や浮動小数点数の中から最小値を返 し ま す \n",
    "( 引 数 の 最 大 値 を 返 す 組 み 込 み 関 数 m a x ( ) も あ り ま す )。 \n",
    "m i n ( ) を 使 う こ と で 、 リストの中のリンクが 5 件未満かどうかを調べて、\n",
    "タブで開くリンクの数を num_open という変数に格納します。\n",
    "そして range(num_open) を呼び出して for ループを回しま す。"
   ]
  },
  {
   "cell_type": "code",
   "execution_count": null,
   "metadata": {
    "collapsed": true
   },
   "outputs": [],
   "source": []
  },
  {
   "cell_type": "code",
   "execution_count": null,
   "metadata": {
    "collapsed": true
   },
   "outputs": [],
   "source": []
  },
  {
   "cell_type": "code",
   "execution_count": null,
   "metadata": {
    "collapsed": true
   },
   "outputs": [],
   "source": []
  },
  {
   "cell_type": "markdown",
   "metadata": {
    "ExecuteTime": {
     "end_time": "2018-06-12T09:53:52.577742Z",
     "start_time": "2018-06-12T09:53:52.571313Z"
    }
   },
   "source": [
    "## 12章エクセルシート"
   ]
  },
  {
   "cell_type": "markdown",
   "metadata": {},
   "source": [
    "https://github.com/oreilly-japan/automatestuff-ja"
   ]
  },
  {
   "cell_type": "code",
   "execution_count": 1,
   "metadata": {
    "ExecuteTime": {
     "end_time": "2018-11-23T21:06:10.750634Z",
     "start_time": "2018-11-23T21:06:09.723819Z"
    },
    "collapsed": true
   },
   "outputs": [],
   "source": [
    "import os\n",
    "import openpyxl\n",
    "import datetime"
   ]
  },
  {
   "cell_type": "code",
   "execution_count": 2,
   "metadata": {
    "ExecuteTime": {
     "end_time": "2018-11-23T21:06:12.142121Z",
     "start_time": "2018-11-23T21:06:12.116762Z"
    }
   },
   "outputs": [
    {
     "data": {
      "text/plain": [
       "['退屈なことはPythonにやらせよう.ipynb',\n",
       " 'automatestuff-ja',\n",
       " 'example.xlsx',\n",
       " '.ipynb_checkpoints',\n",
       " '.git',\n",
       " 'g_output.csv']"
      ]
     },
     "execution_count": 2,
     "metadata": {},
     "output_type": "execute_result"
    }
   ],
   "source": [
    "path = os.getcwd()\n",
    "os.listdir(path)"
   ]
  },
  {
   "cell_type": "markdown",
   "metadata": {},
   "source": [
    "### Openpyxlでエクセルファイルを開く\n",
    "openpyxl.load_workboo()関数"
   ]
  },
  {
   "cell_type": "markdown",
   "metadata": {},
   "source": [
    "- ファイル名を引数にとる\n",
    "- ワークブックのデータ型Workbookオブジェクトを返す\n",
    "- Workbookオブジェクトはエクセルファイルを表す"
   ]
  },
  {
   "cell_type": "code",
   "execution_count": 6,
   "metadata": {
    "ExecuteTime": {
     "end_time": "2018-11-23T21:09:13.071688Z",
     "start_time": "2018-11-23T21:09:12.055110Z"
    }
   },
   "outputs": [
    {
     "name": "stdout",
     "output_type": "stream",
     "text": [
      "['退屈なことはPythonにやらせよう.ipynb', 'automatestuff-ja', 'example.xlsx', '.ipynb_checkpoints', '.git', 'g_output.csv']\n",
      "clean\n"
     ]
    }
   ],
   "source": [
    "import openpyxl\n",
    "import os\n",
    "path = os.getcwd()\n",
    "print(os.listdir(path))\n",
    "try:\n",
    "    wb = openpyxl.load_workbook('example.xlsx')\n",
    "except FileNotFoundError:\n",
    "    print('FileNotFoundError')\n",
    "finally:\n",
    "    print('clean')"
   ]
  },
  {
   "cell_type": "markdown",
   "metadata": {},
   "source": [
    "### ワークブックからシートを取得\n",
    "メソッド get_sheet_names(), get_sheet_by_name()\n",
    "属性　sheet.title, workbook.active\n"
   ]
  },
  {
   "cell_type": "markdown",
   "metadata": {
    "ExecuteTime": {
     "end_time": "2018-06-12T10:08:34.154343Z",
     "start_time": "2018-06-12T10:08:34.136422Z"
    }
   },
   "source": [
    "- ワークブックに含まれるシート名をリストで取得できる\n",
    "- ワークブックのget_sheet_by_name()メソッドにシート名の文字列を渡すとシート(＝Worksheetオブジェクト）を取得できる\n",
    "- ワークブックの属性、activeでアクティブシートを取得できる\n",
    "- ワークブックの属性、titleでシート名を取得できる"
   ]
  },
  {
   "cell_type": "code",
   "execution_count": 7,
   "metadata": {
    "ExecuteTime": {
     "end_time": "2018-11-23T21:09:14.648641Z",
     "start_time": "2018-11-23T21:09:14.633154Z"
    }
   },
   "outputs": [
    {
     "name": "stdout",
     "output_type": "stream",
     "text": [
      "['Sheet1']\n",
      "-------\n",
      "<class 'openpyxl.worksheet.worksheet.Worksheet'>\n",
      "Sheet1\n",
      "<class 'openpyxl.worksheet.worksheet.Worksheet'>\n"
     ]
    }
   ],
   "source": [
    "print(wb.get_sheet_names())\n",
    "print('-------')\n",
    "try:\n",
    "    sheet = wb.get_sheet_by_name('Sheet1')\n",
    "    print(type(sheet))\n",
    "except KeyError:\n",
    "    print('KeyError!')\n",
    "finally:\n",
    "    print(sheet.title)\n",
    "    another_sheet = wb.active\n",
    "    print(type(another_sheet))"
   ]
  },
  {
   "cell_type": "markdown",
   "metadata": {},
   "source": [
    "### シートからセルを取得する"
   ]
  },
  {
   "cell_type": "markdown",
   "metadata": {},
   "source": [
    "- Cellオブジェクトのvalue属性にはセルの値が格納されている\n",
    "- Cellオブジェクトには、row,columnとcoordinateという属性をもち、セルの位置情報を提供"
   ]
  },
  {
   "cell_type": "code",
   "execution_count": 8,
   "metadata": {
    "ExecuteTime": {
     "end_time": "2018-11-23T21:09:18.284138Z",
     "start_time": "2018-11-23T21:09:18.267961Z"
    }
   },
   "outputs": [
    {
     "name": "stdout",
     "output_type": "stream",
     "text": [
      "<Cell 'Sheet1'.A1>\n",
      "--------------\n",
      "TEST\n",
      "<class 'str'>\n"
     ]
    }
   ],
   "source": [
    "sheet = wb.get_sheet_by_name('Sheet1')\n",
    "print(sheet['A1'])\n",
    "print('--------------')\n",
    "print(sheet['A1'].value)\n",
    "print(type(sheet['A1'].value))\n"
   ]
  },
  {
   "cell_type": "code",
   "execution_count": 9,
   "metadata": {
    "ExecuteTime": {
     "end_time": "2018-11-23T21:09:23.516994Z",
     "start_time": "2018-11-23T21:09:23.507084Z"
    }
   },
   "outputs": [
    {
     "name": "stdout",
     "output_type": "stream",
     "text": [
      "None\n",
      "None\n"
     ]
    }
   ],
   "source": [
    "c=sheet['B1']\n",
    "print(c.value)\n",
    "print(sheet['C1'].value)"
   ]
  },
  {
   "cell_type": "code",
   "execution_count": 11,
   "metadata": {
    "ExecuteTime": {
     "end_time": "2018-11-23T21:10:53.800525Z",
     "start_time": "2018-11-23T21:10:53.792082Z"
    }
   },
   "outputs": [
    {
     "name": "stdout",
     "output_type": "stream",
     "text": [
      "None\n"
     ]
    }
   ],
   "source": [
    "sheet = wb.get_sheet_by_name('Sheet1')\n",
    "sheet.cell(row=1, column=2)\n",
    "print(sheet.cell(row=1, column=2).value)\n"
   ]
  },
  {
   "cell_type": "code",
   "execution_count": 12,
   "metadata": {
    "ExecuteTime": {
     "end_time": "2018-11-23T21:10:57.883896Z",
     "start_time": "2018-11-23T21:10:57.872101Z"
    }
   },
   "outputs": [
    {
     "name": "stdout",
     "output_type": "stream",
     "text": [
      "1 TEST\n",
      "3 None\n",
      "5 None\n",
      "7 None\n"
     ]
    }
   ],
   "source": [
    "for i in range(1, 8, 2):\n",
    "    print(i, sheet.cell(row=i, column=1).value)"
   ]
  },
  {
   "cell_type": "markdown",
   "metadata": {
    "ExecuteTime": {
     "end_time": "2018-06-12T10:47:21.911702Z",
     "start_time": "2018-06-12T10:47:21.907336Z"
    }
   },
   "source": [
    "### Workbookオブジェクトのmax_row, max_column属性"
   ]
  },
  {
   "cell_type": "code",
   "execution_count": 14,
   "metadata": {
    "ExecuteTime": {
     "end_time": "2018-11-23T21:11:50.756498Z",
     "start_time": "2018-11-23T21:11:50.743218Z"
    }
   },
   "outputs": [
    {
     "name": "stdout",
     "output_type": "stream",
     "text": [
      "Sheet1のシートサイズは7行　, 3 列です\n",
      "<class 'int'>\n",
      "<class 'int'>\n"
     ]
    }
   ],
   "source": [
    "a = sheet.max_row\n",
    "b = sheet.max_column\n",
    "print('Sheet1のシートサイズは{}行　, {} 列です'.format(a, b))\n",
    "print(type(a))\n",
    "print(type(b))"
   ]
  },
  {
   "cell_type": "markdown",
   "metadata": {},
   "source": [
    "### シート内の特定領域のセルオブジェクトを左上から右下へ順に取得"
   ]
  },
  {
   "cell_type": "code",
   "execution_count": 15,
   "metadata": {
    "ExecuteTime": {
     "end_time": "2018-11-23T21:12:16.674602Z",
     "start_time": "2018-11-23T21:12:16.652897Z"
    }
   },
   "outputs": [
    {
     "name": "stdout",
     "output_type": "stream",
     "text": [
      "((<Cell 'Sheet1'.A1>, <Cell 'Sheet1'.B1>, <Cell 'Sheet1'.C1>), (<Cell 'Sheet1'.A2>, <Cell 'Sheet1'.B2>, <Cell 'Sheet1'.C2>), (<Cell 'Sheet1'.A3>, <Cell 'Sheet1'.B3>, <Cell 'Sheet1'.C3>), (<Cell 'Sheet1'.A4>, <Cell 'Sheet1'.B4>, <Cell 'Sheet1'.C4>))\n",
      "A1 TEST\n",
      "B1 None\n",
      "C1 None\n",
      "--- END OF ROW ---\n",
      "A2 None\n",
      "B2 None\n",
      "C2 None\n",
      "--- END OF ROW ---\n",
      "A3 None\n",
      "B3 None\n",
      "C3 None\n",
      "--- END OF ROW ---\n",
      "A4 None\n",
      "B4 None\n",
      "C4 None\n",
      "--- END OF ROW ---\n"
     ]
    }
   ],
   "source": [
    "print(tuple(sheet['A1':'C4']))\n",
    "for row in sheet['A1':'C4']:\n",
    "    for each in row:\n",
    "        print(each.coordinate, each.value)\n",
    "    print(\"--- END OF ROW ---\")"
   ]
  },
  {
   "cell_type": "markdown",
   "metadata": {},
   "source": [
    "### WorkSheetオブジェクトのrows, columns属性"
   ]
  },
  {
   "cell_type": "markdown",
   "metadata": {},
   "source": [
    "- タプルのタプルを返す\n",
    "- 内側のタプルは各行（又は各列）を表す、その行（又は列）のすべてのCellオブジェクトを格納\n",
    "- １行(又は１列)にアクセスする場合、外側のタプルのインデックスを指定する。\n",
    "- 例えばB列なら　sheet.columns[1]"
   ]
  },
  {
   "cell_type": "markdown",
   "metadata": {},
   "source": [
    "### 12.4 スプレッドシートからデータを読み込む"
   ]
  },
  {
   "cell_type": "code",
   "execution_count": 16,
   "metadata": {
    "ExecuteTime": {
     "end_time": "2018-11-23T21:13:53.171903Z",
     "start_time": "2018-11-23T21:13:44.062225Z"
    }
   },
   "outputs": [
    {
     "name": "stdout",
     "output_type": "stream",
     "text": [
      "ワークブックを開いています…\n",
      "行を読み込んでいます…\n",
      "結果を書き込み中…\n",
      "書き込み完了\n"
     ]
    }
   ],
   "source": [
    "#! python3\n",
    "# readCensusExcel.py - 郡ごとに人口と人口調査標準地域の数を集計\n",
    "\n",
    "import openpyxl\n",
    "import pprint\n",
    "print('ワークブックを開いています…')\n",
    "wb = openpyxl.load_workbook('./automatestuff-ja/ch12/censuspopdata.xlsx')\n",
    "sheet = wb.get_sheet_by_name('Population by Census Tract')\n",
    "# 州の略称をキーにした辞書、各州には郡の名称をキーにした辞書を対応づける\n",
    "country_data = {}\n",
    "\n",
    "# TODO: country_dataに郡の人口と地域数を格納\n",
    "print('行を読み込んでいます…')\n",
    "for row in range(2, sheet.max_row + 1):\n",
    "    # スプレッドシートの各行に、データがある\n",
    "    state = sheet['B' + str(row)].value\n",
    "    country = sheet['C' + str(row)].value\n",
    "    pop = sheet['D' + str(row)].value\n",
    "\n",
    "# TODO: 新しいテキストファイルを開き、country_dataの内容を書き込む\n",
    "# setdefaultメソッドは指定したkeyが無い場合に、keyを辞書に追加\n",
    "\n",
    "#州stateのキーが辞書に存在するようにする\n",
    "    country_data.setdefault(state, {})\n",
    "\n",
    "#郡countryのキーが辞書に存在するようにする\n",
    "    country_data[state].setdefault(country, {'tracts' : 0, 'pop' : 0})\n",
    "#各行が人口調査標準地域を表すのでひとつ増やす\n",
    "    country_data[state][country]['tracts'] += 1\n",
    "#この人口調査標準地域の人口だけ郡の人口を増やす\n",
    "    country_data[state][country]['pop'] += int(pop)\n",
    "\n",
    "print('結果を書き込み中…')\n",
    "result = open('census20.py', 'w')\n",
    "result.write('all_data = ' + pprint.pformat(country_data))\n",
    "result.close()\n",
    "print('書き込み完了')"
   ]
  },
  {
   "cell_type": "markdown",
   "metadata": {
    "collapsed": true
   },
   "source": [
    "### 12.5 スプレッドシートを更新する"
   ]
  },
  {
   "cell_type": "markdown",
   "metadata": {
    "collapsed": true
   },
   "source": [
    "- にんにく、セロリ、レモンの価格に誤り \n",
    "- Celery 1.19, Garlic 3.07, Lemon 1.27\n",
    "- スプレッドシートを開く\n",
    "- A列の値がにんにく、セロリ、レモンかどうか調べる\n",
    "- もしそうならB列の価格を更新する\n",
    "- スプレッドシートファイルを新しい名前で保存する"
   ]
  },
  {
   "cell_type": "code",
   "execution_count": 8,
   "metadata": {
    "ExecuteTime": {
     "end_time": "2018-11-23T06:55:09.872866Z",
     "start_time": "2018-11-23T06:55:09.832936Z"
    }
   },
   "outputs": [
    {
     "ename": "FileNotFoundError",
     "evalue": "[Errno 2] No such file or directory: 'produceSales.xlsx'",
     "output_type": "error",
     "traceback": [
      "\u001b[0;31m---------------------------------------------------------------------------\u001b[0m",
      "\u001b[0;31mFileNotFoundError\u001b[0m                         Traceback (most recent call last)",
      "\u001b[0;32m<ipython-input-8-80bfc679023f>\u001b[0m in \u001b[0;36m<module>\u001b[0;34m()\u001b[0m\n\u001b[1;32m      4\u001b[0m \u001b[0;32mimport\u001b[0m \u001b[0mopenpyxl\u001b[0m\u001b[0;34m\u001b[0m\u001b[0m\n\u001b[1;32m      5\u001b[0m \u001b[0;34m\u001b[0m\u001b[0m\n\u001b[0;32m----> 6\u001b[0;31m \u001b[0mwb\u001b[0m \u001b[0;34m=\u001b[0m \u001b[0mopenpyxl\u001b[0m\u001b[0;34m.\u001b[0m\u001b[0mload_workbook\u001b[0m\u001b[0;34m(\u001b[0m\u001b[0;34m'produceSales.xlsx'\u001b[0m\u001b[0;34m)\u001b[0m\u001b[0;34m\u001b[0m\u001b[0m\n\u001b[0m\u001b[1;32m      7\u001b[0m \u001b[0msheet\u001b[0m \u001b[0;34m=\u001b[0m \u001b[0mwb\u001b[0m\u001b[0;34m.\u001b[0m\u001b[0mget_sheet_by_name\u001b[0m\u001b[0;34m(\u001b[0m\u001b[0;34m'Sheet'\u001b[0m\u001b[0;34m)\u001b[0m\u001b[0;34m\u001b[0m\u001b[0m\n\u001b[1;32m      8\u001b[0m \u001b[0;34m\u001b[0m\u001b[0m\n",
      "\u001b[0;32m~/.pyenv/versions/anaconda3-5.0.0/envs/py3.6/lib/python3.6/site-packages/openpyxl/reader/excel.py\u001b[0m in \u001b[0;36mload_workbook\u001b[0;34m(filename, read_only, keep_vba, data_only, guess_types, keep_links)\u001b[0m\n\u001b[1;32m    169\u001b[0m \u001b[0;34m\u001b[0m\u001b[0m\n\u001b[1;32m    170\u001b[0m     \"\"\"\n\u001b[0;32m--> 171\u001b[0;31m     \u001b[0marchive\u001b[0m \u001b[0;34m=\u001b[0m \u001b[0m_validate_archive\u001b[0m\u001b[0;34m(\u001b[0m\u001b[0mfilename\u001b[0m\u001b[0;34m)\u001b[0m\u001b[0;34m\u001b[0m\u001b[0m\n\u001b[0m\u001b[1;32m    172\u001b[0m     \u001b[0mread_only\u001b[0m \u001b[0;34m=\u001b[0m \u001b[0mread_only\u001b[0m\u001b[0;34m\u001b[0m\u001b[0m\n\u001b[1;32m    173\u001b[0m \u001b[0;34m\u001b[0m\u001b[0m\n",
      "\u001b[0;32m~/.pyenv/versions/anaconda3-5.0.0/envs/py3.6/lib/python3.6/site-packages/openpyxl/reader/excel.py\u001b[0m in \u001b[0;36m_validate_archive\u001b[0;34m(filename)\u001b[0m\n\u001b[1;32m    116\u001b[0m \u001b[0;34m\u001b[0m\u001b[0m\n\u001b[1;32m    117\u001b[0m     \u001b[0;32mtry\u001b[0m\u001b[0;34m:\u001b[0m\u001b[0;34m\u001b[0m\u001b[0m\n\u001b[0;32m--> 118\u001b[0;31m         \u001b[0marchive\u001b[0m \u001b[0;34m=\u001b[0m \u001b[0mZipFile\u001b[0m\u001b[0;34m(\u001b[0m\u001b[0mfilename\u001b[0m\u001b[0;34m,\u001b[0m \u001b[0;34m'r'\u001b[0m\u001b[0;34m,\u001b[0m \u001b[0mZIP_DEFLATED\u001b[0m\u001b[0;34m)\u001b[0m\u001b[0;34m\u001b[0m\u001b[0m\n\u001b[0m\u001b[1;32m    119\u001b[0m     \u001b[0;32mexcept\u001b[0m \u001b[0mBadZipfile\u001b[0m\u001b[0;34m:\u001b[0m\u001b[0;34m\u001b[0m\u001b[0m\n\u001b[1;32m    120\u001b[0m         \u001b[0mf\u001b[0m \u001b[0;34m=\u001b[0m \u001b[0mrepair_central_directory\u001b[0m\u001b[0;34m(\u001b[0m\u001b[0mfilename\u001b[0m\u001b[0;34m,\u001b[0m \u001b[0mis_file_like\u001b[0m\u001b[0;34m)\u001b[0m\u001b[0;34m\u001b[0m\u001b[0m\n",
      "\u001b[0;32m~/.pyenv/versions/anaconda3-5.0.0/envs/py3.6/lib/python3.6/zipfile.py\u001b[0m in \u001b[0;36m__init__\u001b[0;34m(self, file, mode, compression, allowZip64)\u001b[0m\n\u001b[1;32m   1088\u001b[0m             \u001b[0;32mwhile\u001b[0m \u001b[0;32mTrue\u001b[0m\u001b[0;34m:\u001b[0m\u001b[0;34m\u001b[0m\u001b[0m\n\u001b[1;32m   1089\u001b[0m                 \u001b[0;32mtry\u001b[0m\u001b[0;34m:\u001b[0m\u001b[0;34m\u001b[0m\u001b[0m\n\u001b[0;32m-> 1090\u001b[0;31m                     \u001b[0mself\u001b[0m\u001b[0;34m.\u001b[0m\u001b[0mfp\u001b[0m \u001b[0;34m=\u001b[0m \u001b[0mio\u001b[0m\u001b[0;34m.\u001b[0m\u001b[0mopen\u001b[0m\u001b[0;34m(\u001b[0m\u001b[0mfile\u001b[0m\u001b[0;34m,\u001b[0m \u001b[0mfilemode\u001b[0m\u001b[0;34m)\u001b[0m\u001b[0;34m\u001b[0m\u001b[0m\n\u001b[0m\u001b[1;32m   1091\u001b[0m                 \u001b[0;32mexcept\u001b[0m \u001b[0mOSError\u001b[0m\u001b[0;34m:\u001b[0m\u001b[0;34m\u001b[0m\u001b[0m\n\u001b[1;32m   1092\u001b[0m                     \u001b[0;32mif\u001b[0m \u001b[0mfilemode\u001b[0m \u001b[0;32min\u001b[0m \u001b[0mmodeDict\u001b[0m\u001b[0;34m:\u001b[0m\u001b[0;34m\u001b[0m\u001b[0m\n",
      "\u001b[0;31mFileNotFoundError\u001b[0m: [Errno 2] No such file or directory: 'produceSales.xlsx'"
     ]
    }
   ],
   "source": [
    "#! python3\n",
    "# updateProduce.py - 農産物スプレッドシートの価格を訂正\n",
    "\n",
    "import openpyxl\n",
    "\n",
    "wb = openpyxl.load_workbook('produceSales.xlsx')\n",
    "sheet = wb.get_sheet_by_name('Sheet')\n",
    "\n",
    "dic ={\"Celery\": 1.19 ,\"Garlic\": 3.07, \"Lemon\": 1.27}\n",
    "\n",
    "for row_num in range(2, sheet.max_row + 1):\n",
    "    produce_name = sheet.cell(row= row_num, column=1).value\n",
    "    if  produce_name in dic.keys() :\n",
    "        sheet.cell(row=row_num, column=2).value = dic[produce_name]\n",
    "\n",
    "wb.save(\"updateproduceSales.xlsx\")"
   ]
  },
  {
   "cell_type": "markdown",
   "metadata": {},
   "source": [
    "## 16章電子メールやSMSの送信"
   ]
  },
  {
   "cell_type": "markdown",
   "metadata": {},
   "source": [
    "- pyzmailはeasy_install pyzmailでインストール\n",
    "- サードパーティ製のimapclientモジュールを利用、解析にはpyzmailを利用\n",
    "- imaplibモジュールで検索可能サイズを１０Mバイトに変更 ex. imaplib._MAXSIZE = 10000000\n",
    "- IMAPClientのgmail_search()メソッドを用いるとgmailの高度な検索を利用できる"
   ]
  },
  {
   "cell_type": "markdown",
   "metadata": {},
   "source": [
    "### メール送信"
   ]
  },
  {
   "cell_type": "code",
   "execution_count": 9,
   "metadata": {
    "ExecuteTime": {
     "end_time": "2018-11-23T06:55:16.203400Z",
     "start_time": "2018-11-23T06:55:10.772240Z"
    }
   },
   "outputs": [
    {
     "data": {
      "text/plain": [
       "(250,\n",
       " b'smtp.gmail.com at your service, [2404:7a81:85a0:1900:c5a7:e786:2aa4:108f]\\nSIZE 35882577\\n8BITMIME\\nSTARTTLS\\nENHANCEDSTATUSCODES\\nPIPELINING\\nCHUNKING\\nSMTPUTF8')"
      ]
     },
     "execution_count": 9,
     "metadata": {},
     "output_type": "execute_result"
    }
   ],
   "source": [
    "import smtplib\n",
    "\n",
    "conn = smtplib.SMTP('smtp.gmail.com', 587)\n",
    "conn.ehlo()"
   ]
  },
  {
   "cell_type": "code",
   "execution_count": 10,
   "metadata": {
    "ExecuteTime": {
     "end_time": "2018-11-23T06:55:16.738761Z",
     "start_time": "2018-11-23T06:55:16.209009Z"
    }
   },
   "outputs": [
    {
     "data": {
      "text/plain": [
       "(220, b'2.0.0 Ready to start TLS')"
      ]
     },
     "execution_count": 10,
     "metadata": {},
     "output_type": "execute_result"
    }
   ],
   "source": [
    "conn.starttls()"
   ]
  },
  {
   "cell_type": "code",
   "execution_count": 11,
   "metadata": {
    "ExecuteTime": {
     "end_time": "2018-11-23T06:55:17.765959Z",
     "start_time": "2018-11-23T06:55:16.748492Z"
    }
   },
   "outputs": [
    {
     "ename": "SMTPAuthenticationError",
     "evalue": "(534, b'5.7.14 <https://accounts.google.com/signin/continue?sarp=1&scc=1&plt=AKgnsbvO\\n5.7.14 MTFb5NYLNnGZ9QybuUXBKhrXeg3wSf0zICYImwh6YZMw7NfHuFbPiVWGCy0Aa9ymqTOmqg\\n5.7.14 cENIKno9_5eHktezR5g7Da8PJyCO8qWLGDlYepdEkr_25XsKkpp6kTcS_JnTQ6XHkANHTG\\n5.7.14 YNF-uZS89EW6QniOHifa05jHa3O264lvkdvK8TPO9u_2vtMwRPpg2LQFUmC3OM5gBcGC6A\\n5.7.14 ESIjmCfdziTEyKPnWAbE-bduZvhcp-aoOcc7bYtQKSeKqTNx9M> Please log in via\\n5.7.14 your web browser and then try again.\\n5.7.14  Learn more at\\n5.7.14  https://support.google.com/mail/answer/78754 g70sm1034573pfg.98 - gsmtp')",
     "output_type": "error",
     "traceback": [
      "\u001b[0;31m---------------------------------------------------------------------------\u001b[0m",
      "\u001b[0;31mSMTPAuthenticationError\u001b[0m                   Traceback (most recent call last)",
      "\u001b[0;32m<ipython-input-11-b756ec6ab833>\u001b[0m in \u001b[0;36m<module>\u001b[0;34m()\u001b[0m\n\u001b[0;32m----> 1\u001b[0;31m \u001b[0mconn\u001b[0m\u001b[0;34m.\u001b[0m\u001b[0mlogin\u001b[0m\u001b[0;34m(\u001b[0m\u001b[0;34m'simichan1976@gmail.com'\u001b[0m\u001b[0;34m,\u001b[0m \u001b[0;34m'63841128Ngb'\u001b[0m\u001b[0;34m)\u001b[0m\u001b[0;34m\u001b[0m\u001b[0m\n\u001b[0m",
      "\u001b[0;32m~/.pyenv/versions/anaconda3-5.0.0/envs/py3.6/lib/python3.6/smtplib.py\u001b[0m in \u001b[0;36mlogin\u001b[0;34m(self, user, password, initial_response_ok)\u001b[0m\n\u001b[1;32m    728\u001b[0m \u001b[0;34m\u001b[0m\u001b[0m\n\u001b[1;32m    729\u001b[0m         \u001b[0;31m# We could not login successfully.  Return result of last attempt.\u001b[0m\u001b[0;34m\u001b[0m\u001b[0;34m\u001b[0m\u001b[0m\n\u001b[0;32m--> 730\u001b[0;31m         \u001b[0;32mraise\u001b[0m \u001b[0mlast_exception\u001b[0m\u001b[0;34m\u001b[0m\u001b[0m\n\u001b[0m\u001b[1;32m    731\u001b[0m \u001b[0;34m\u001b[0m\u001b[0m\n\u001b[1;32m    732\u001b[0m     \u001b[0;32mdef\u001b[0m \u001b[0mstarttls\u001b[0m\u001b[0;34m(\u001b[0m\u001b[0mself\u001b[0m\u001b[0;34m,\u001b[0m \u001b[0mkeyfile\u001b[0m\u001b[0;34m=\u001b[0m\u001b[0;32mNone\u001b[0m\u001b[0;34m,\u001b[0m \u001b[0mcertfile\u001b[0m\u001b[0;34m=\u001b[0m\u001b[0;32mNone\u001b[0m\u001b[0;34m,\u001b[0m \u001b[0mcontext\u001b[0m\u001b[0;34m=\u001b[0m\u001b[0;32mNone\u001b[0m\u001b[0;34m)\u001b[0m\u001b[0;34m:\u001b[0m\u001b[0;34m\u001b[0m\u001b[0m\n",
      "\u001b[0;32m~/.pyenv/versions/anaconda3-5.0.0/envs/py3.6/lib/python3.6/smtplib.py\u001b[0m in \u001b[0;36mlogin\u001b[0;34m(self, user, password, initial_response_ok)\u001b[0m\n\u001b[1;32m    719\u001b[0m                 (code, resp) = self.auth(\n\u001b[1;32m    720\u001b[0m                     \u001b[0mauthmethod\u001b[0m\u001b[0;34m,\u001b[0m \u001b[0mgetattr\u001b[0m\u001b[0;34m(\u001b[0m\u001b[0mself\u001b[0m\u001b[0;34m,\u001b[0m \u001b[0mmethod_name\u001b[0m\u001b[0;34m)\u001b[0m\u001b[0;34m,\u001b[0m\u001b[0;34m\u001b[0m\u001b[0m\n\u001b[0;32m--> 721\u001b[0;31m                     initial_response_ok=initial_response_ok)\n\u001b[0m\u001b[1;32m    722\u001b[0m                 \u001b[0;31m# 235 == 'Authentication successful'\u001b[0m\u001b[0;34m\u001b[0m\u001b[0;34m\u001b[0m\u001b[0m\n\u001b[1;32m    723\u001b[0m                 \u001b[0;31m# 503 == 'Error: already authenticated'\u001b[0m\u001b[0;34m\u001b[0m\u001b[0;34m\u001b[0m\u001b[0m\n",
      "\u001b[0;32m~/.pyenv/versions/anaconda3-5.0.0/envs/py3.6/lib/python3.6/smtplib.py\u001b[0m in \u001b[0;36mauth\u001b[0;34m(self, mechanism, authobject, initial_response_ok)\u001b[0m\n\u001b[1;32m    640\u001b[0m         \u001b[0;32mif\u001b[0m \u001b[0mcode\u001b[0m \u001b[0;32min\u001b[0m \u001b[0;34m(\u001b[0m\u001b[0;36m235\u001b[0m\u001b[0;34m,\u001b[0m \u001b[0;36m503\u001b[0m\u001b[0;34m)\u001b[0m\u001b[0;34m:\u001b[0m\u001b[0;34m\u001b[0m\u001b[0m\n\u001b[1;32m    641\u001b[0m             \u001b[0;32mreturn\u001b[0m \u001b[0;34m(\u001b[0m\u001b[0mcode\u001b[0m\u001b[0;34m,\u001b[0m \u001b[0mresp\u001b[0m\u001b[0;34m)\u001b[0m\u001b[0;34m\u001b[0m\u001b[0m\n\u001b[0;32m--> 642\u001b[0;31m         \u001b[0;32mraise\u001b[0m \u001b[0mSMTPAuthenticationError\u001b[0m\u001b[0;34m(\u001b[0m\u001b[0mcode\u001b[0m\u001b[0;34m,\u001b[0m \u001b[0mresp\u001b[0m\u001b[0;34m)\u001b[0m\u001b[0;34m\u001b[0m\u001b[0m\n\u001b[0m\u001b[1;32m    643\u001b[0m \u001b[0;34m\u001b[0m\u001b[0m\n\u001b[1;32m    644\u001b[0m     \u001b[0;32mdef\u001b[0m \u001b[0mauth_cram_md5\u001b[0m\u001b[0;34m(\u001b[0m\u001b[0mself\u001b[0m\u001b[0;34m,\u001b[0m \u001b[0mchallenge\u001b[0m\u001b[0;34m=\u001b[0m\u001b[0;32mNone\u001b[0m\u001b[0;34m)\u001b[0m\u001b[0;34m:\u001b[0m\u001b[0;34m\u001b[0m\u001b[0m\n",
      "\u001b[0;31mSMTPAuthenticationError\u001b[0m: (534, b'5.7.14 <https://accounts.google.com/signin/continue?sarp=1&scc=1&plt=AKgnsbvO\\n5.7.14 MTFb5NYLNnGZ9QybuUXBKhrXeg3wSf0zICYImwh6YZMw7NfHuFbPiVWGCy0Aa9ymqTOmqg\\n5.7.14 cENIKno9_5eHktezR5g7Da8PJyCO8qWLGDlYepdEkr_25XsKkpp6kTcS_JnTQ6XHkANHTG\\n5.7.14 YNF-uZS89EW6QniOHifa05jHa3O264lvkdvK8TPO9u_2vtMwRPpg2LQFUmC3OM5gBcGC6A\\n5.7.14 ESIjmCfdziTEyKPnWAbE-bduZvhcp-aoOcc7bYtQKSeKqTNx9M> Please log in via\\n5.7.14 your web browser and then try again.\\n5.7.14  Learn more at\\n5.7.14  https://support.google.com/mail/answer/78754 g70sm1034573pfg.98 - gsmtp')"
     ]
    }
   ],
   "source": [
    "conn.login('simichan1976@gmail.com', '63841128Ngb')"
   ]
  },
  {
   "cell_type": "code",
   "execution_count": null,
   "metadata": {
    "ExecuteTime": {
     "end_time": "2018-11-23T06:55:17.767524Z",
     "start_time": "2018-11-23T06:55:10.786Z"
    },
    "collapsed": true
   },
   "outputs": [],
   "source": [
    "conn.sendmail('simichan1976@gmail.com', 'simichan1976@gmail.com',\n",
    "             'Subject: so long .. \\n\\n Dear Sirs. \\n So long. and thanks for all the fish. \\n\\n-al')"
   ]
  },
  {
   "cell_type": "code",
   "execution_count": null,
   "metadata": {
    "ExecuteTime": {
     "end_time": "2018-11-23T06:55:17.770405Z",
     "start_time": "2018-11-23T06:55:10.793Z"
    },
    "collapsed": true
   },
   "outputs": [],
   "source": [
    "conn.quit()"
   ]
  },
  {
   "cell_type": "markdown",
   "metadata": {},
   "source": [
    "### IMAPでメール取得と削除"
   ]
  },
  {
   "cell_type": "code",
   "execution_count": null,
   "metadata": {
    "ExecuteTime": {
     "end_time": "2018-11-23T06:55:17.773217Z",
     "start_time": "2018-11-23T06:55:11.132Z"
    },
    "collapsed": true
   },
   "outputs": [],
   "source": [
    "import imapclient\n",
    "import backports"
   ]
  },
  {
   "cell_type": "code",
   "execution_count": null,
   "metadata": {
    "ExecuteTime": {
     "end_time": "2018-11-23T06:55:17.777316Z",
     "start_time": "2018-11-23T06:55:11.136Z"
    },
    "collapsed": true
   },
   "outputs": [],
   "source": [
    "import ssl"
   ]
  },
  {
   "cell_type": "code",
   "execution_count": null,
   "metadata": {
    "ExecuteTime": {
     "end_time": "2018-11-23T06:55:17.781004Z",
     "start_time": "2018-11-23T06:55:11.145Z"
    },
    "collapsed": true
   },
   "outputs": [],
   "source": [
    "context = ssl.SSLContext(ssl.PROTOCOL_TLSv1_2)\n",
    "imap_obj = imapclient.IMAPClient('imap.gmail.com', ssl=True, ssl_context=context)\n",
    "imap_obj.login('simichan1976@gmail.com', '63841128Ngb')"
   ]
  },
  {
   "cell_type": "markdown",
   "metadata": {},
   "source": [
    "#### フォルダのリスト取得"
   ]
  },
  {
   "cell_type": "code",
   "execution_count": null,
   "metadata": {
    "ExecuteTime": {
     "end_time": "2018-11-23T06:55:17.784827Z",
     "start_time": "2018-11-23T06:55:11.459Z"
    },
    "collapsed": true
   },
   "outputs": [],
   "source": [
    "import pprint\n",
    "pprint.pprint(imap_obj.list_folders())"
   ]
  },
  {
   "cell_type": "code",
   "execution_count": null,
   "metadata": {
    "ExecuteTime": {
     "end_time": "2018-11-23T06:55:17.787619Z",
     "start_time": "2018-11-23T06:55:11.463Z"
    },
    "collapsed": true
   },
   "outputs": [],
   "source": [
    "imap_obj.select_folder('[Gmail]/すべてのメール', readonly=True)"
   ]
  },
  {
   "cell_type": "code",
   "execution_count": null,
   "metadata": {
    "ExecuteTime": {
     "end_time": "2018-11-23T06:55:17.791638Z",
     "start_time": "2018-11-23T06:55:11.469Z"
    },
    "collapsed": true
   },
   "outputs": [],
   "source": [
    "UIDs = imap_obj.search(['ON', '12-Jun-2018'])\n",
    "print(len(UIDs))\n",
    "print('-----------')\n",
    "print(UIDs)"
   ]
  },
  {
   "cell_type": "code",
   "execution_count": null,
   "metadata": {
    "ExecuteTime": {
     "end_time": "2018-11-23T06:55:17.793701Z",
     "start_time": "2018-11-23T06:55:11.478Z"
    },
    "collapsed": true
   },
   "outputs": [],
   "source": [
    "raw_messages = imap_obj.fetch(UIDs, ['BODY[]'])\n",
    "import pprint\n",
    "import imaplib"
   ]
  },
  {
   "cell_type": "code",
   "execution_count": null,
   "metadata": {
    "ExecuteTime": {
     "end_time": "2018-11-23T06:55:17.795368Z",
     "start_time": "2018-11-23T06:55:11.481Z"
    },
    "collapsed": true
   },
   "outputs": [],
   "source": [
    "imaplib._MAXLINE = 10000000"
   ]
  },
  {
   "cell_type": "code",
   "execution_count": null,
   "metadata": {
    "ExecuteTime": {
     "end_time": "2018-11-23T06:55:17.797790Z",
     "start_time": "2018-11-23T06:55:11.488Z"
    },
    "collapsed": true
   },
   "outputs": [],
   "source": [
    "pprint.pprint(raw_messages[200165])\n",
    "#raw_messages[200269]"
   ]
  },
  {
   "cell_type": "code",
   "execution_count": null,
   "metadata": {
    "ExecuteTime": {
     "end_time": "2018-11-23T06:55:17.800154Z",
     "start_time": "2018-11-23T06:55:11.496Z"
    },
    "collapsed": true
   },
   "outputs": [],
   "source": [
    "import pyzmail"
   ]
  },
  {
   "cell_type": "code",
   "execution_count": null,
   "metadata": {
    "ExecuteTime": {
     "end_time": "2018-11-23T06:55:17.802425Z",
     "start_time": "2018-11-23T06:55:11.500Z"
    },
    "collapsed": true
   },
   "outputs": [],
   "source": [
    "message = pyzmail.PyzMessage.factory(raw_messages[200165][b'BODY[]'])"
   ]
  },
  {
   "cell_type": "code",
   "execution_count": null,
   "metadata": {
    "ExecuteTime": {
     "end_time": "2018-11-23T06:55:17.804786Z",
     "start_time": "2018-11-23T06:55:11.508Z"
    },
    "collapsed": true
   },
   "outputs": [],
   "source": [
    "message.get_subject()"
   ]
  },
  {
   "cell_type": "code",
   "execution_count": null,
   "metadata": {
    "ExecuteTime": {
     "end_time": "2018-11-23T06:55:17.807678Z",
     "start_time": "2018-11-23T06:55:11.513Z"
    },
    "collapsed": true
   },
   "outputs": [],
   "source": [
    "message.get_addresses('from')"
   ]
  },
  {
   "cell_type": "code",
   "execution_count": null,
   "metadata": {
    "ExecuteTime": {
     "end_time": "2018-11-23T06:55:17.811010Z",
     "start_time": "2018-11-23T06:55:11.517Z"
    },
    "collapsed": true
   },
   "outputs": [],
   "source": [
    "message.get_addresses('to')"
   ]
  },
  {
   "cell_type": "code",
   "execution_count": null,
   "metadata": {
    "ExecuteTime": {
     "end_time": "2018-11-23T06:55:17.813675Z",
     "start_time": "2018-11-23T06:55:11.524Z"
    },
    "collapsed": true
   },
   "outputs": [],
   "source": [
    "message.text_part != None\n",
    "message.html_part != None"
   ]
  },
  {
   "cell_type": "code",
   "execution_count": null,
   "metadata": {
    "ExecuteTime": {
     "end_time": "2018-11-23T06:55:17.817377Z",
     "start_time": "2018-11-23T06:55:11.533Z"
    },
    "collapsed": true
   },
   "outputs": [],
   "source": [
    "message.html_part.get_payload().decode(message.html_part.charset)"
   ]
  },
  {
   "cell_type": "code",
   "execution_count": null,
   "metadata": {
    "ExecuteTime": {
     "end_time": "2018-11-23T06:55:17.819264Z",
     "start_time": "2018-11-23T06:55:11.539Z"
    },
    "collapsed": true
   },
   "outputs": [],
   "source": [
    "imap_obj.logout()"
   ]
  },
  {
   "cell_type": "markdown",
   "metadata": {},
   "source": [
    "### 会費リマインダーメールを送る"
   ]
  },
  {
   "cell_type": "code",
   "execution_count": null,
   "metadata": {
    "ExecuteTime": {
     "end_time": "2018-11-23T06:55:17.821415Z",
     "start_time": "2018-11-23T06:55:11.847Z"
    },
    "collapsed": true
   },
   "outputs": [],
   "source": [
    "#! python3\n",
    "# sendDueReminders.py - スプレッドシートの支払い状況からメール送信\n",
    "\n",
    " \n",
    "import openpyxl\n",
    "import smtplib\n",
    "import sys\n",
    "\n",
    "\n",
    "wb = openpyxl.load_workbook('duesRecords.xlsx')\n",
    "sheet = wb.get_sheet_by_name('Sheet1')\n",
    "\n",
    "#最新月の値を取得\n",
    "last_col = sheet.max_column\n",
    "latest_month = sheet.cell(row=1, column=last_col).value\n",
    "\n",
    "print(latest_month)\n",
    "\n",
    "# TODO: 会員の支払い状況を調べる\n",
    "# ＝辞書unpaid_members 作成　最新月未払いの会員名（Member列）と連絡先（Email列）\n",
    "unpaid_members = {}\n",
    "\n",
    "for r in range(2, sheet.max_row + 1):\n",
    "    payment = sheet.cell(row=r, column=last_col).value\n",
    "    if payment != 'paid':\n",
    "        name = sheet.cell(row=r, column=1).value\n",
    "        email = sheet.cell(row=r, column=2).value\n",
    "        unpaid_members[name] = email\n",
    "\n",
    "print(unpaid_members)\n",
    "\n",
    "# TODO:　送信メールアカウントにログイン\n",
    "smtp_obj = smtplib.SMTP('smtp.gmail.com', 587)\n",
    "smtp_obj.ehlo()\n",
    "smtp_obj.starttls()\n",
    "smtp_obj.login('simichan1976@gmail.com', '***********')\n",
    "\n",
    "# TODO:督促メールを送信\n",
    "for name, email in unpaid_members.items():\n",
    "    body = \"\"\"Subject: {} dues unpaid. \\n\\n\n",
    "    Dear {}, \\n\n",
    "    Records show that you have not paid dues for {}.Please make this payment as soon as possible.Thank you !\n",
    "    \"\"\".format(latest_month, name, latest_month) \n",
    "    print('メール送信中 {}...'.format(email))\n",
    "    sendmail_status = smtp_obj.sendmail('simichan1976@gmail.com', email, body)\n",
    "\n",
    "    if sendmail_status != {}:\n",
    "        print('{}へメール送信中に問題が発生しました: {}'.format(email, sendmail_status))\n",
    "\n",
    "smtp_obj.quit()\n"
   ]
  },
  {
   "cell_type": "code",
   "execution_count": null,
   "metadata": {
    "ExecuteTime": {
     "end_time": "2018-11-23T06:55:17.823850Z",
     "start_time": "2018-11-23T06:55:11.851Z"
    },
    "collapsed": true
   },
   "outputs": [],
   "source": [
    "import datetime\n",
    "\n",
    "now = datetime.datetime.now()\n",
    "print(now)"
   ]
  },
  {
   "cell_type": "markdown",
   "metadata": {},
   "source": [
    "#### シートから辞書へ日付で条件抽出"
   ]
  },
  {
   "cell_type": "code",
   "execution_count": null,
   "metadata": {
    "ExecuteTime": {
     "end_time": "2018-11-23T06:55:17.827287Z",
     "start_time": "2018-11-23T06:55:12.165Z"
    },
    "collapsed": true
   },
   "outputs": [],
   "source": [
    "import openpyxl\n",
    "import datetime\n",
    "\n",
    "wb = openpyxl.load_workbook('members.xlsx')\n",
    "sheet = wb.get_sheet_by_name('Sheet1')\n",
    "\n",
    "print(wb.get_sheet_names())\n",
    "\n",
    "now = datetime.datetime.now()\n",
    "\n",
    "dic = {}\n",
    "\n",
    "for i in range(2, sheet.max_row):\n",
    "    number = sheet.cell(row = i, column = 1).value\n",
    "    name = sheet.cell(row=i, column=2).value\n",
    "    reg_date = sheet.cell(row=i, column=3).value\n",
    "    \n",
    "    if reg_date > now:\n",
    "        dic[name] = reg_date\n",
    "\n",
    "print(dic)"
   ]
  },
  {
   "cell_type": "markdown",
   "metadata": {
    "collapsed": true
   },
   "source": [
    "## Simple usage 公式ドキュメントやってみる"
   ]
  },
  {
   "cell_type": "markdown",
   "metadata": {},
   "source": [
    "- https://openpyxl.readthedocs.io/en/stable/usage.html"
   ]
  },
  {
   "cell_type": "markdown",
   "metadata": {},
   "source": [
    "#### Write a Workbook"
   ]
  },
  {
   "cell_type": "code",
   "execution_count": null,
   "metadata": {
    "ExecuteTime": {
     "end_time": "2018-11-23T06:55:17.829344Z",
     "start_time": "2018-11-23T06:55:13.246Z"
    },
    "collapsed": true
   },
   "outputs": [],
   "source": [
    "from openpyxl import Workbook\n",
    "from openpyxl.compat import range\n",
    "from openpyxl.utils import get_column_letter\n",
    "\n",
    "wb = Workbook()\n",
    "\n",
    "dest_filename = 'empty_book.xlsx'\n",
    "\n",
    "ws1 = wb.active\n",
    "ws1.title= 'range names'\n",
    "\n",
    "for row in range(1, 40):\n",
    "    ws1.append(range(600))\n",
    "    \n",
    "ws2 = wb.create_sheet(title='Pi')\n",
    "ws2['F5'] = 3.14\n",
    "\n",
    "ws3 = wb.create_sheet(title='Data')\n",
    "for row in range(10, 20):\n",
    "    for col in range(27, 54):\n",
    "        _ = ws3.cell(column=col, row = row, value=\"{0}\".format(get_column_letter(col)))\n",
    "    \n",
    "print(ws3['AA10'].value)\n",
    "\n",
    "wb.save(filename= dest_filename)"
   ]
  },
  {
   "cell_type": "markdown",
   "metadata": {},
   "source": [
    "#### Read an existing workbook"
   ]
  },
  {
   "cell_type": "code",
   "execution_count": null,
   "metadata": {
    "ExecuteTime": {
     "end_time": "2018-11-23T06:55:17.831871Z",
     "start_time": "2018-11-23T06:55:13.570Z"
    },
    "collapsed": true
   },
   "outputs": [],
   "source": [
    "from openpyxl import load_workbook\n",
    "\n",
    "wb = load_workbook(filename = 'empty_book.xlsx')\n",
    "sheet_ranges = wb['range names']\n",
    "print(sheet_ranges['D18'].value)"
   ]
  },
  {
   "cell_type": "markdown",
   "metadata": {},
   "source": [
    "#### Using number formats"
   ]
  },
  {
   "cell_type": "code",
   "execution_count": null,
   "metadata": {
    "ExecuteTime": {
     "end_time": "2018-11-23T06:55:17.833854Z",
     "start_time": "2018-11-23T06:55:13.911Z"
    },
    "collapsed": true
   },
   "outputs": [],
   "source": [
    "import datetime\n",
    "from openpyxl import Workbook\n",
    "\n",
    "\n",
    "wb = Workbook()\n",
    "ws = wb.active\n",
    "\n",
    "ws['A1'] = datetime.datetime(2018, 6, 14)\n",
    "ws['A1'].number_format\n",
    "\n",
    "wb.guess_types = True\n",
    "\n",
    "# set percentage using a string followed by the percent sign\n",
    "ws['B1'] = '3.14%'\n",
    "wb.guess_types = False\n",
    "print(ws['B1'].value)\n",
    "\n",
    "print(ws['B1'].number_format)"
   ]
  },
  {
   "cell_type": "markdown",
   "metadata": {},
   "source": [
    "#### Using formulae"
   ]
  },
  {
   "cell_type": "code",
   "execution_count": null,
   "metadata": {
    "ExecuteTime": {
     "end_time": "2018-11-23T06:55:17.835482Z",
     "start_time": "2018-11-23T06:55:14.296Z"
    },
    "collapsed": true
   },
   "outputs": [],
   "source": [
    "from openpyxl import Workbook\n",
    "wb = Workbook()\n",
    "ws = wb.active\n",
    "\n",
    "ws['A1'] = '=SUM(1, 1)'\n",
    "ws.cell(row=2, column=2).value = '= A1'\n",
    "wb.save('formula.xlsx')"
   ]
  },
  {
   "cell_type": "markdown",
   "metadata": {},
   "source": [
    "#### Fold columns(outline)"
   ]
  },
  {
   "cell_type": "code",
   "execution_count": null,
   "metadata": {
    "ExecuteTime": {
     "end_time": "2018-11-23T06:55:17.838086Z",
     "start_time": "2018-11-23T06:55:14.667Z"
    },
    "collapsed": true
   },
   "outputs": [],
   "source": [
    "from openpyxl import load_workbook\n",
    "\n",
    "wb = load_workbook(filename = 'formula.xlsx')\n",
    "ws = wb.create_sheet()\n",
    "ws.column_dimensions.group('A', 'D', hidden=True)\n",
    "wb.save('formula1.xlsx')"
   ]
  },
  {
   "cell_type": "markdown",
   "metadata": {},
   "source": [
    "#### Merge/Unmerge cells"
   ]
  },
  {
   "cell_type": "code",
   "execution_count": null,
   "metadata": {
    "ExecuteTime": {
     "end_time": "2018-11-23T06:55:17.841433Z",
     "start_time": "2018-11-23T06:55:15.032Z"
    },
    "collapsed": true
   },
   "outputs": [],
   "source": [
    "from openpyxl.workbook import Workbook\n",
    "\n",
    "wb = Workbook()\n",
    "ws = wb.active\n",
    "\n",
    "ws.merge_cells('A2:D2')\n",
    "#ws.unmerge_cells('A2:D2')\n",
    "\n",
    "wb.save('merge.xlsx')"
   ]
  },
  {
   "cell_type": "markdown",
   "metadata": {
    "collapsed": true
   },
   "source": [
    "#### Inserting an image"
   ]
  },
  {
   "cell_type": "code",
   "execution_count": null,
   "metadata": {
    "ExecuteTime": {
     "end_time": "2018-11-23T06:55:17.843563Z",
     "start_time": "2018-11-23T06:55:15.396Z"
    },
    "collapsed": true
   },
   "outputs": [],
   "source": [
    "from openpyxl import Workbook\n",
    "from openpyxl.drawing.image import Image\n",
    "\n",
    "wb=Workbook()\n",
    "ws = wb.active\n",
    "ws['A1'] = 'You should see three logos below.'\n",
    "\n",
    "img = Image('logo.png')\n",
    "\n",
    "ws.add_image(img, 'F1')\n",
    "wb.save('logo.xlsx')"
   ]
  }
 ],
 "metadata": {
  "kernelspec": {
   "display_name": "Python 3",
   "language": "python",
   "name": "python3"
  },
  "language_info": {
   "codemirror_mode": {
    "name": "ipython",
    "version": 3
   },
   "file_extension": ".py",
   "mimetype": "text/x-python",
   "name": "python",
   "nbconvert_exporter": "python",
   "pygments_lexer": "ipython3",
   "version": "3.6.3"
  },
  "latex_envs": {
   "LaTeX_envs_menu_present": true,
   "autocomplete": true,
   "bibliofile": "biblio.bib",
   "cite_by": "apalike",
   "current_citInitial": 1,
   "eqLabelWithNumbers": true,
   "eqNumInitial": 1,
   "hotkeys": {
    "equation": "Ctrl-E",
    "itemize": "Ctrl-I"
   },
   "labels_anchors": false,
   "latex_user_defs": false,
   "report_style_numbering": false,
   "user_envs_cfg": false
  },
  "toc": {
   "nav_menu": {},
   "number_sections": true,
   "sideBar": true,
   "skip_h1_title": true,
   "toc_cell": true,
   "toc_position": {},
   "toc_section_display": "block",
   "toc_window_display": true
  }
 },
 "nbformat": 4,
 "nbformat_minor": 2
}
